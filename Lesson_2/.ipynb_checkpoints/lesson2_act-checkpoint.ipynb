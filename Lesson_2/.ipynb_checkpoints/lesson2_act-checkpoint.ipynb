{
 "cells": [
  {
   "cell_type": "markdown",
   "id": "80cbb3b5-d6ca-4a6f-b731-df0a96980f2e",
   "metadata": {},
   "source": [
    "# Review Questions Page 5"
   ]
  },
  {
   "cell_type": "code",
   "execution_count": 2,
   "id": "2cc5192d-118d-4152-b7e2-69ddc4a5d56f",
   "metadata": {},
   "outputs": [
    {
     "name": "stdout",
     "output_type": "stream",
     "text": [
      "Num1:  (25, 0, 0)\n",
      "Num2:  25000000\n"
     ]
    }
   ],
   "source": [
    "#1\n",
    "num1 = 25,000,000\n",
    "num2 = 25_000_000\n",
    "\n",
    "print(\"Num1: \", num1)\n",
    "print(\"Num2: \", num2)"
   ]
  },
  {
   "cell_type": "code",
   "execution_count": 3,
   "id": "ade7f7fc-471a-40c4-9220-e8357eba159c",
   "metadata": {},
   "outputs": [
    {
     "name": "stdout",
     "output_type": "stream",
     "text": [
      "175000.0\n"
     ]
    }
   ],
   "source": [
    "#2\n",
    "num = 1.75 * 10**5\n",
    "print(num)"
   ]
  },
  {
   "cell_type": "code",
   "execution_count": 6,
   "id": "92083e11-1e68-4d9c-ac1c-b59f343ff784",
   "metadata": {},
   "outputs": [
    {
     "name": "stdout",
     "output_type": "stream",
     "text": [
      "inf\n"
     ]
    }
   ],
   "source": [
    "#3\n",
    "print(2e308)"
   ]
  },
  {
   "cell_type": "markdown",
   "id": "b1ae8f9f-2d6a-495b-9a4e-6a4efaa9ff89",
   "metadata": {},
   "source": [
    "# Review Questions Page 10 "
   ]
  },
  {
   "cell_type": "code",
   "execution_count": 11,
   "id": "4f53c807-e9b3-4026-bbae-b88b45f7049e",
   "metadata": {},
   "outputs": [
    {
     "name": "stdin",
     "output_type": "stream",
     "text": [
      "Enter a base:  1.2\n",
      "Enter an exponent:  3\n"
     ]
    },
    {
     "name": "stdout",
     "output_type": "stream",
     "text": [
      "1.2  to the power of  3 =  1.7279999999999998\n"
     ]
    }
   ],
   "source": [
    "base = input(\"Enter a base: \")\n",
    "expo = input(\"Enter an exponent: \")\n",
    "\n",
    "result = float(base) ** float(expo)\n",
    "print(base, \" to the power of \", expo, \"= \", result)"
   ]
  },
  {
   "cell_type": "markdown",
   "id": "11d93726-9e96-4a2e-90f4-24a4a025b153",
   "metadata": {},
   "source": [
    "# Review Questions Page 13 "
   ]
  },
  {
   "cell_type": "code",
   "execution_count": 12,
   "id": "8bfac3e0-2d3e-4c64-9e92-b509a1387f3e",
   "metadata": {},
   "outputs": [
    {
     "name": "stdin",
     "output_type": "stream",
     "text": [
      "Enter a number:  5.432\n"
     ]
    },
    {
     "name": "stdout",
     "output_type": "stream",
     "text": [
      "5.432  is rounded to 2 decimal places is  5.43\n"
     ]
    }
   ],
   "source": [
    "#1\n",
    "num = input(\"Enter a number: \")\n",
    "\n",
    "rounded = round(float(num),2)\n",
    "\n",
    "print(num, \" is rounded to 2 decimal places is \", rounded )"
   ]
  },
  {
   "cell_type": "code",
   "execution_count": 17,
   "id": "03b4179f-81ee-461d-8792-539d91557020",
   "metadata": {},
   "outputs": [
    {
     "name": "stdin",
     "output_type": "stream",
     "text": [
      "Enter a number:  -10\n"
     ]
    },
    {
     "name": "stdout",
     "output_type": "stream",
     "text": [
      "The absolute value of -10 is  10.0\n"
     ]
    }
   ],
   "source": [
    "#2\n",
    "num = float(input(\"Enter a number: \"))\n",
    "\n",
    "print(\"The absolute value of -10 is \", abs(num))\n"
   ]
  },
  {
   "cell_type": "markdown",
   "id": "e3781412-ea80-49bc-bc25-aabadd496b73",
   "metadata": {},
   "source": [
    "# Review Questions Page 14"
   ]
  },
  {
   "cell_type": "code",
   "execution_count": 22,
   "id": "ee08c975-2377-463d-9a7d-a54e6424e7ef",
   "metadata": {},
   "outputs": [
    {
     "name": "stdin",
     "output_type": "stream",
     "text": [
      "Enter first number:  1.5\n",
      "Enter second number:  .5\n"
     ]
    },
    {
     "name": "stdout",
     "output_type": "stream",
     "text": [
      "The difference between  1.5  and  .5  is an integer? True!\n"
     ]
    }
   ],
   "source": [
    "firstNum = input(\"Enter first number: \")\n",
    "secondNum = input(\"Enter second number: \")\n",
    "\n",
    "difference = float(firstNum) - float(secondNum)\n",
    "isInteger = difference.is_integer()\n",
    "print(\"The difference between \", firstNum, \" and \", secondNum, \" is an integer?\", str(isInteger) + \"!\")"
   ]
  },
  {
   "cell_type": "markdown",
   "id": "21602353-3b7b-4ee8-898c-05fa8b5b20a6",
   "metadata": {},
   "source": [
    "# Review Questions Page 18"
   ]
  },
  {
   "cell_type": "code",
   "execution_count": 8,
   "id": "5a7c3af5-57fb-4967-a4d4-1c1a1744e2a0",
   "metadata": {},
   "outputs": [
    {
     "name": "stdout",
     "output_type": "stream",
     "text": [
      "Product is 0.375\n"
     ]
    }
   ],
   "source": [
    "#1 \n",
    "firstNum = float(3)\n",
    "secondNum = float(.125)\n",
    "\n",
    "product = firstNum * secondNum\n",
    "\n",
    "print(f\"Product is {product:.2f}\")"
   ]
  },
  {
   "cell_type": "code",
   "execution_count": 13,
   "id": "f287ef1e-aac8-4e0f-85e4-e86a0d4ecf92",
   "metadata": {},
   "outputs": [
    {
     "name": "stdout",
     "output_type": "stream",
     "text": [
      "Amount is $150,000.00\n"
     ]
    }
   ],
   "source": [
    "#2\n",
    "amount = float(150000)\n",
    "\n",
    "print(f\"Amount is ${amount:,.2f}\")\n",
    "\n",
    "\n",
    "\n"
   ]
  },
  {
   "cell_type": "code",
   "execution_count": 26,
   "id": "30053214-9b35-403e-bb66-61c3bbd05f49",
   "metadata": {},
   "outputs": [
    {
     "name": "stdout",
     "output_type": "stream",
     "text": [
      "The result is 20%\n"
     ]
    }
   ],
   "source": [
    "#3\n",
    "num1 = int(2)\n",
    "num2 = int(10)\n",
    "\n",
    "result = num1 / num2\n",
    "\n",
    "print(f\"The result is {result:.0%}\")"
   ]
  },
  {
   "cell_type": "code",
   "execution_count": null,
   "id": "d5387dbb-7454-4a28-a50f-76e25ac1feb4",
   "metadata": {},
   "outputs": [],
   "source": []
  }
 ],
 "metadata": {
  "kernelspec": {
   "display_name": "Python [conda env:base] *",
   "language": "python",
   "name": "conda-base-py"
  },
  "language_info": {
   "codemirror_mode": {
    "name": "ipython",
    "version": 3
   },
   "file_extension": ".py",
   "mimetype": "text/x-python",
   "name": "python",
   "nbconvert_exporter": "python",
   "pygments_lexer": "ipython3",
   "version": "3.13.5"
  }
 },
 "nbformat": 4,
 "nbformat_minor": 5
}
