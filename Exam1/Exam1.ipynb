{
 "cells": [
  {
   "cell_type": "markdown",
   "id": "09e9b44a-b0fa-415e-b863-34259ea016c7",
   "metadata": {},
   "source": [
    "# 1st Long Exam September 10, 2025"
   ]
  },
  {
   "cell_type": "markdown",
   "id": "6f845d8f-fd3f-4e0a-8819-492b9ddd913d",
   "metadata": {},
   "source": [
    "# Luke Harvey T. Umpad ID: 23785371"
   ]
  },
  {
   "cell_type": "markdown",
   "id": "e80b8f1a-14c1-4667-ac94-c0018e4266e4",
   "metadata": {},
   "source": [
    "Question 1"
   ]
  },
  {
   "cell_type": "code",
   "execution_count": 1,
   "id": "c72ecde6-bf58-42a5-ae71-6dae2a980734",
   "metadata": {},
   "outputs": [
    {
     "name": "stdin",
     "output_type": "stream",
     "text": [
      "Enter your name:  luke\n"
     ]
    },
    {
     "name": "stdout",
     "output_type": "stream",
     "text": [
      "Hello, Luke!\n"
     ]
    }
   ],
   "source": [
    "prompt = input('Enter your name: ')\n",
    "name = prompt[0].upper() + prompt[1:]\n",
    "print(f'Hello, {name}!')"
   ]
  },
  {
   "cell_type": "markdown",
   "id": "f78a85cc-f7dc-4343-8e0e-f255230f7c0d",
   "metadata": {},
   "source": [
    "Question 2"
   ]
  },
  {
   "cell_type": "code",
   "execution_count": 5,
   "id": "e6001de9-fd50-4b6c-855f-258325fe8606",
   "metadata": {},
   "outputs": [
    {
     "name": "stdin",
     "output_type": "stream",
     "text": [
      "Enter a positive integer:  12\n"
     ]
    },
    {
     "ename": "TypeError",
     "evalue": "'int' object is not callable",
     "output_type": "error",
     "traceback": [
      "\u001b[1;31m---------------------------------------------------------------------------\u001b[0m",
      "\u001b[1;31mTypeError\u001b[0m                                 Traceback (most recent call last)",
      "Cell \u001b[1;32mIn[5], line 2\u001b[0m\n\u001b[0;32m      1\u001b[0m num \u001b[38;5;241m=\u001b[39m \u001b[38;5;28minput\u001b[39m(\u001b[38;5;124m'\u001b[39m\u001b[38;5;124mEnter a positive integer: \u001b[39m\u001b[38;5;124m'\u001b[39m)\n\u001b[1;32m----> 2\u001b[0m sum1 \u001b[38;5;241m=\u001b[39m (\u001b[38;5;28mabs\u001b[39m(\u001b[38;5;28mint\u001b[39m(num))(\u001b[38;5;28mabs\u001b[39m(\u001b[38;5;28mint\u001b[39m(num)) \u001b[38;5;241m+\u001b[39m \u001b[38;5;241m1\u001b[39m)) \u001b[38;5;241m/\u001b[39m \u001b[38;5;241m2\u001b[39m\n\u001b[0;32m      3\u001b[0m \u001b[38;5;28mprint\u001b[39m(\u001b[38;5;124mf\u001b[39m\u001b[38;5;124m'\u001b[39m\u001b[38;5;124mSum: \u001b[39m\u001b[38;5;132;01m{\u001b[39;00m\u001b[38;5;28msum\u001b[39m\u001b[38;5;132;01m}\u001b[39;00m\u001b[38;5;124m'\u001b[39m)\n",
      "\u001b[1;31mTypeError\u001b[0m: 'int' object is not callable"
     ]
    }
   ],
   "source": [
    "num = input('Enter a positive integer: ')\n",
    "sum1 = (abs(int(num))(abs(int(num)) + 1)) / 2\n",
    "print(f'Sum: {sum}')"
   ]
  },
  {
   "cell_type": "markdown",
   "id": "ef5eb359-2f3c-4fc1-a113-fd0bdfbc560c",
   "metadata": {},
   "source": [
    "Question 3 "
   ]
  },
  {
   "cell_type": "code",
   "execution_count": 6,
   "id": "d7b5d167-33b5-48c6-afc3-cea5d14678b0",
   "metadata": {},
   "outputs": [
    {
     "ename": "SyntaxError",
     "evalue": "invalid syntax (1078736248.py, line 2)",
     "output_type": "error",
     "traceback": [
      "\u001b[1;36m  Cell \u001b[1;32mIn[6], line 2\u001b[1;36m\u001b[0m\n\u001b[1;33m    if letter == 'a' || letter == 'e' || letter == 'i' || letter == 'o' || letter == 'u':\u001b[0m\n\u001b[1;37m                      ^\u001b[0m\n\u001b[1;31mSyntaxError\u001b[0m\u001b[1;31m:\u001b[0m invalid syntax\n"
     ]
    }
   ],
   "source": [
    "letter = input('Enter a letter').lower()\n",
    "if letter == 'a' || letter == 'e' || letter == 'i' || letter == 'o' || letter == 'u':\n",
    "    print(f'{letter} is a vowel')\n",
    "elif letter == 'y':\n",
    "    print(f'Sometimes y is a vowel, and sometimes y is a consonant')\n",
    "else:\n",
    "    print(f'{letter} is a consonant')\n",
    "    "
   ]
  },
  {
   "cell_type": "markdown",
   "id": "d5311461-63d4-485a-bfd2-f9ce80ab63fb",
   "metadata": {},
   "source": [
    "Question 4"
   ]
  },
  {
   "cell_type": "code",
   "execution_count": 9,
   "id": "59aa2e7b-4711-42eb-b444-4ba6f1508941",
   "metadata": {},
   "outputs": [
    {
     "ename": "SyntaxError",
     "evalue": "unterminated string literal (detected at line 1) (1460533399.py, line 1)",
     "output_type": "error",
     "traceback": [
      "\u001b[1;36m  Cell \u001b[1;32mIn[9], line 1\u001b[1;36m\u001b[0m\n\u001b[1;33m    word = input('Enter a word to determine if it's a palindrome or not: ').lower()\u001b[0m\n\u001b[1;37m                                                                         ^\u001b[0m\n\u001b[1;31mSyntaxError\u001b[0m\u001b[1;31m:\u001b[0m unterminated string literal (detected at line 1)\n"
     ]
    }
   ],
   "source": [
    "word = input('Enter a word to determine if it's a palindrome or not: ').lower()\n",
    "first_letter = word[0]\n",
    "for i in range(1):\n",
    "    for j in word: \n",
    "        last = j\n",
    "    if j == first_letter:\n",
    "        print(f'The word {word} is a palindrome.')\n",
    "    else:\n",
    "        print(f'The word {word} is not a palindrome.')"
   ]
  },
  {
   "cell_type": "markdown",
   "id": "bc46182b-3c3e-4cc3-b821-e5871c1e1d43",
   "metadata": {},
   "source": [
    "Question 5"
   ]
  },
  {
   "cell_type": "code",
   "execution_count": 8,
   "id": "2ffde99d-9aaf-480e-8332-53e43d00f9f3",
   "metadata": {},
   "outputs": [
    {
     "name": "stdin",
     "output_type": "stream",
     "text": [
      "Enter first length:  12\n",
      "Enter second length:  23\n"
     ]
    },
    {
     "name": "stdout",
     "output_type": "stream",
     "text": [
      "The length of the hypotenuse: 25.942243542145693\n"
     ]
    }
   ],
   "source": [
    "def length_of_hypotenuse(a,b):\n",
    "    return (float(a) ** 2 + float(b) ** 2) ** 0.5\n",
    "a = input(\"Enter first length: \")\n",
    "b = input(\"Enter second length: \")\n",
    "print(f'The length of the hypotenuse: {length_of_hypotenuse(float(a), float(b))}')"
   ]
  },
  {
   "cell_type": "code",
   "execution_count": null,
   "id": "b07982a8-9272-4d6b-bf39-94b237c94a13",
   "metadata": {},
   "outputs": [],
   "source": []
  }
 ],
 "metadata": {
  "kernelspec": {
   "display_name": "Python 3 (ipykernel)",
   "language": "python",
   "name": "python3"
  },
  "language_info": {
   "codemirror_mode": {
    "name": "ipython",
    "version": 3
   },
   "file_extension": ".py",
   "mimetype": "text/x-python",
   "name": "python",
   "nbconvert_exporter": "python",
   "pygments_lexer": "ipython3",
   "version": "3.13.5"
  }
 },
 "nbformat": 4,
 "nbformat_minor": 5
}
