{
 "cells": [
  {
   "cell_type": "markdown",
   "id": "44214bba-6ad6-4f19-9ae3-aeb31aad6483",
   "metadata": {},
   "source": [
    "# REVIEW QUESTIONS PAGE 5"
   ]
  },
  {
   "cell_type": "code",
   "execution_count": 7,
   "id": "93b5c742-4ba6-4edd-baf8-22eb7e152fab",
   "metadata": {},
   "outputs": [
    {
     "name": "stdout",
     "output_type": "stream",
     "text": [
      "True\n",
      "False\n",
      "True\n",
      "True\n",
      "True\n",
      "False\n"
     ]
    }
   ],
   "source": [
    "#1\n",
    "\n",
    "print(1 <= 1)\n",
    "print(1 != 1)\n",
    "print(1 <= 2)\n",
    "print('good' != 'bad')\n",
    "print('good' != 'Good')\n",
    "print(123 == '123')"
   ]
  },
  {
   "cell_type": "code",
   "execution_count": 10,
   "id": "21ebdcf9-c21d-4916-bd97-2249797b0f96",
   "metadata": {},
   "outputs": [
    {
     "name": "stdout",
     "output_type": "stream",
     "text": [
      "True\n",
      "True\n",
      "True\n",
      "True\n"
     ]
    }
   ],
   "source": [
    "#2\n",
    "print(3 < 4)\n",
    "print(10 > 5)\n",
    "print('jack' != 'jill')\n",
    "print(42 != '42')"
   ]
  },
  {
   "cell_type": "markdown",
   "id": "90c64046-b46b-4204-9081-0b877da15adc",
   "metadata": {},
   "source": [
    "# REVIEW QUESTIONS PAGE 10"
   ]
  },
  {
   "cell_type": "code",
   "execution_count": 14,
   "id": "fd2e2464-2ebb-46cb-8a66-5a0a45b95cd0",
   "metadata": {},
   "outputs": [
    {
     "name": "stdout",
     "output_type": "stream",
     "text": [
      "False\n",
      "False\n",
      "True\n",
      "False\n"
     ]
    }
   ],
   "source": [
    "#1\n",
    "print((1 <= 1) and (1 != 1))\n",
    "print(not (1 != 2))\n",
    "print(('good' != 'bad') or False)\n",
    "print(('good' != 'Good') and not (1 == 1))"
   ]
  },
  {
   "cell_type": "code",
   "execution_count": 29,
   "id": "d709c3a9-d5d5-4b89-becf-7a5721b78b52",
   "metadata": {},
   "outputs": [
    {
     "name": "stdout",
     "output_type": "stream",
     "text": [
      "True\n",
      "True\n",
      "True\n"
     ]
    }
   ],
   "source": [
    "#2\n",
    "print(False == (not True))\n",
    "print((True and False) == (True and False))\n",
    "print(not (True and 'A' == 'B'))"
   ]
  },
  {
   "cell_type": "markdown",
   "id": "0a1bf5e5-6f66-4b01-92a9-735a0bb6d073",
   "metadata": {},
   "source": [
    "# REVIEW QUESTIONS PAGE 15"
   ]
  },
  {
   "cell_type": "code",
   "execution_count": 35,
   "id": "8f0ff282-6cd9-47d3-981e-241cb28a63ad",
   "metadata": {},
   "outputs": [
    {
     "name": "stdin",
     "output_type": "stream",
     "text": [
      "Enter a word:  word\n"
     ]
    },
    {
     "name": "stdout",
     "output_type": "stream",
     "text": [
      "word is less than 5.\n"
     ]
    }
   ],
   "source": [
    "n = input('Enter a word: ')\n",
    "word_length = len(n)\n",
    "if word_length < 5: print(f'{n} is less than 5.')   \n",
    "elif word_length > 5: print(f'{n} is greater than 5.')\n",
    "else: print(f'{n} is equal to 5.')"
   ]
  },
  {
   "cell_type": "markdown",
   "id": "638d05fd-795d-464a-b98d-bd92013e8595",
   "metadata": {},
   "source": [
    "# REVIEW QUESTIONS PAGE 20"
   ]
  },
  {
   "cell_type": "code",
   "execution_count": 39,
   "id": "6970f44d-98db-4549-bba9-56b566310498",
   "metadata": {},
   "outputs": [
    {
     "name": "stdin",
     "output_type": "stream",
     "text": [
      "Input something:  queer\n",
      "Input something:  quit\n",
      "Input something:  q\n"
     ]
    }
   ],
   "source": [
    "#1\n",
    "while True:\n",
    "    user_input = input('Input something: ')\n",
    "    if (user_input == 'q') or (user_input == 'Q'): break"
   ]
  },
  {
   "cell_type": "code",
   "execution_count": null,
   "id": "805216fe-5007-4d93-99c3-57cb0f33aa45",
   "metadata": {},
   "outputs": [],
   "source": [
    "#2\n",
    "for n in range(1,51):\n",
    "    if n % 3 "
   ]
  }
 ],
 "metadata": {
  "kernelspec": {
   "display_name": "Python 3 (ipykernel)",
   "language": "python",
   "name": "python3"
  },
  "language_info": {
   "codemirror_mode": {
    "name": "ipython",
    "version": 3
   },
   "file_extension": ".py",
   "mimetype": "text/x-python",
   "name": "python",
   "nbconvert_exporter": "python",
   "pygments_lexer": "ipython3",
   "version": "3.13.5"
  }
 },
 "nbformat": 4,
 "nbformat_minor": 5
}
