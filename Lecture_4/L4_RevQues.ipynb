{
 "cells": [
  {
   "cell_type": "markdown",
   "id": "44214bba-6ad6-4f19-9ae3-aeb31aad6483",
   "metadata": {},
   "source": [
    "# REVIEW QUESTIONS PAGE 5"
   ]
  },
  {
   "cell_type": "code",
   "execution_count": 7,
   "id": "93b5c742-4ba6-4edd-baf8-22eb7e152fab",
   "metadata": {},
   "outputs": [
    {
     "name": "stdout",
     "output_type": "stream",
     "text": [
      "True\n",
      "False\n",
      "True\n",
      "True\n",
      "True\n",
      "False\n"
     ]
    }
   ],
   "source": [
    "#1\n",
    "\n",
    "print(1 <= 1)\n",
    "print(1 != 1)\n",
    "print(1 <= 2)\n",
    "print('good' != 'bad')\n",
    "print('good' != 'Good')\n",
    "print(123 == '123')"
   ]
  },
  {
   "cell_type": "code",
   "execution_count": 10,
   "id": "21ebdcf9-c21d-4916-bd97-2249797b0f96",
   "metadata": {},
   "outputs": [
    {
     "name": "stdout",
     "output_type": "stream",
     "text": [
      "True\n",
      "True\n",
      "True\n",
      "True\n"
     ]
    }
   ],
   "source": [
    "#2\n",
    "print(3 < 4)\n",
    "print(10 > 5)\n",
    "print('jack' != 'jill')\n",
    "print(42 != '42')"
   ]
  },
  {
   "cell_type": "markdown",
   "id": "90c64046-b46b-4204-9081-0b877da15adc",
   "metadata": {},
   "source": [
    "# REVIEW QUESTIONS PAGE 10"
   ]
  },
  {
   "cell_type": "code",
   "execution_count": 14,
   "id": "fd2e2464-2ebb-46cb-8a66-5a0a45b95cd0",
   "metadata": {},
   "outputs": [
    {
     "name": "stdout",
     "output_type": "stream",
     "text": [
      "False\n",
      "False\n",
      "True\n",
      "False\n"
     ]
    }
   ],
   "source": [
    "#1\n",
    "print((1 <= 1) and (1 != 1))\n",
    "print(not (1 != 2))\n",
    "print(('good' != 'bad') or False)\n",
    "print(('good' != 'Good') and not (1 == 1))"
   ]
  },
  {
   "cell_type": "code",
   "execution_count": 29,
   "id": "d709c3a9-d5d5-4b89-becf-7a5721b78b52",
   "metadata": {},
   "outputs": [
    {
     "name": "stdout",
     "output_type": "stream",
     "text": [
      "True\n",
      "True\n",
      "True\n"
     ]
    }
   ],
   "source": [
    "#2\n",
    "print(False == (not True))\n",
    "print((True and False) == (True and False))\n",
    "print(not (True and 'A' == 'B'))"
   ]
  },
  {
   "cell_type": "markdown",
   "id": "0a1bf5e5-6f66-4b01-92a9-735a0bb6d073",
   "metadata": {},
   "source": [
    "# REVIEW QUESTIONS PAGE 15"
   ]
  },
  {
   "cell_type": "code",
   "execution_count": 35,
   "id": "8f0ff282-6cd9-47d3-981e-241cb28a63ad",
   "metadata": {},
   "outputs": [
    {
     "name": "stdin",
     "output_type": "stream",
     "text": [
      "Enter a word:  word\n"
     ]
    },
    {
     "name": "stdout",
     "output_type": "stream",
     "text": [
      "word is less than 5.\n"
     ]
    }
   ],
   "source": [
    "n = input('Enter a word: ')\n",
    "word_length = len(n)\n",
    "if word_length < 5: print(f'{n} is less than 5.')   \n",
    "elif word_length > 5: print(f'{n} is greater than 5.')\n",
    "else: print(f'{n} is equal to 5.')"
   ]
  },
  {
   "cell_type": "markdown",
   "id": "638d05fd-795d-464a-b98d-bd92013e8595",
   "metadata": {},
   "source": [
    "# REVIEW QUESTIONS PAGE 20"
   ]
  },
  {
   "cell_type": "code",
   "execution_count": 39,
   "id": "6970f44d-98db-4549-bba9-56b566310498",
   "metadata": {},
   "outputs": [
    {
     "name": "stdin",
     "output_type": "stream",
     "text": [
      "Input something:  queer\n",
      "Input something:  quit\n",
      "Input something:  q\n"
     ]
    }
   ],
   "source": [
    "#1\n",
    "while True:\n",
    "    user_input = input('Input something: ')\n",
    "    if (user_input == 'q') or (user_input == 'Q'): break"
   ]
  },
  {
   "cell_type": "code",
   "execution_count": 1,
   "id": "805216fe-5007-4d93-99c3-57cb0f33aa45",
   "metadata": {},
   "outputs": [
    {
     "name": "stdout",
     "output_type": "stream",
     "text": [
      "3\n",
      "6\n",
      "9\n",
      "12\n",
      "15\n",
      "18\n",
      "21\n",
      "24\n",
      "27\n",
      "30\n",
      "33\n",
      "36\n",
      "39\n",
      "42\n",
      "45\n",
      "48\n"
     ]
    }
   ],
   "source": [
    "#2\n",
    "for n in range(1,51):\n",
    "    if n % 3:\n",
    "        continue\n",
    "    print(f'{n}')"
   ]
  },
  {
   "cell_type": "markdown",
   "id": "23200f7c-96a0-4dfd-96ab-d69446c82d6f",
   "metadata": {},
   "source": [
    "# REVIEW QUESTIONS PAGE 27"
   ]
  },
  {
   "cell_type": "code",
   "execution_count": 20,
   "id": "5d195fcd-a0a8-4a92-8e25-d85fee3396da",
   "metadata": {},
   "outputs": [
    {
     "name": "stdin",
     "output_type": "stream",
     "text": [
      "Input an integer:  adad\n"
     ]
    },
    {
     "name": "stdout",
     "output_type": "stream",
     "text": [
      "Please try again.\n"
     ]
    },
    {
     "name": "stdin",
     "output_type": "stream",
     "text": [
      "Input an integer:  33\n"
     ]
    },
    {
     "name": "stdout",
     "output_type": "stream",
     "text": [
      "You input: 33\n"
     ]
    }
   ],
   "source": [
    "#1\n",
    "while True:\n",
    "    try:\n",
    "        prompt = input('Input an integer: ')\n",
    "        if int(prompt).is_integer(): \n",
    "            print(f'You input: {prompt}')\n",
    "            break\n",
    "        else: print('Oops! Please try again.')\n",
    "    except ValueError: print('Please try again.')\n",
    "\n",
    "    "
   ]
  },
  {
   "cell_type": "code",
   "execution_count": 24,
   "id": "e7e42297-9374-4cf6-8347-c22969670b84",
   "metadata": {},
   "outputs": [
    {
     "name": "stdin",
     "output_type": "stream",
     "text": [
      "Enter a word:  python\n",
      "Enter an integer:  da\n"
     ]
    },
    {
     "name": "stdout",
     "output_type": "stream",
     "text": [
      "Oops! Please check if you entered an integer and try again.\n"
     ]
    },
    {
     "name": "stdin",
     "output_type": "stream",
     "text": [
      "Enter a word:  python\n",
      "Enter an integer:  3\n"
     ]
    },
    {
     "name": "stdout",
     "output_type": "stream",
     "text": [
      "The letter at index 3 is h\n"
     ]
    }
   ],
   "source": [
    "#2\n",
    "while True:\n",
    "    try:\n",
    "        word = input('Enter a word: ')\n",
    "        n = input('Enter an integer: ')\n",
    "        print(f'The letter at index {n} is {word[int(n)]}')\n",
    "        break\n",
    "    except: print('Oops! Please check if you entered an integer and try again.')"
   ]
  },
  {
   "cell_type": "markdown",
   "id": "60f44429-2cbd-43c9-9cfa-626380f6e50f",
   "metadata": {},
   "source": [
    "# REVIEW QUESTIONS PAGE 32"
   ]
  },
  {
   "cell_type": "code",
   "execution_count": 35,
   "id": "ee89e5b0-ecdd-4170-84e5-ee89da4051c8",
   "metadata": {},
   "outputs": [
    {
     "data": {
      "text/plain": [
       "5"
      ]
     },
     "execution_count": 35,
     "metadata": {},
     "output_type": "execute_result"
    }
   ],
   "source": [
    "#1\n",
    "import random\n",
    "def roll():\n",
    "    return random.randint(1,6)\n",
    "roll()"
   ]
  },
  {
   "cell_type": "code",
   "execution_count": 37,
   "id": "5be0ee56-3043-4c08-b632-3a1d985d80fd",
   "metadata": {},
   "outputs": [
    {
     "name": "stdout",
     "output_type": "stream",
     "text": [
      "Average: 3.5\n"
     ]
    }
   ],
   "source": [
    "#2\n",
    "import random\n",
    "\n",
    "total = 0\n",
    "for _ in range(10_000):\n",
    "    total += random.randint(1,6) \n",
    "average = total / 10_000\n",
    "print(f'Average: {average:.1f}')"
   ]
  },
  {
   "cell_type": "markdown",
   "id": "7dbfcc22-ee5a-473e-958d-9a823004de92",
   "metadata": {},
   "source": [
    "# CHALLENGE: SIMULATE AN ELECTION"
   ]
  },
  {
   "cell_type": "code",
   "execution_count": 51,
   "id": "2b8f1404-ac68-4f15-ad20-e455f928a923",
   "metadata": {},
   "outputs": [
    {
     "name": "stdout",
     "output_type": "stream",
     "text": [
      "Estimated probability that Candidate A wins is 63.17%.\n"
     ]
    }
   ],
   "source": [
    "import random\n",
    "\n",
    "simulation = 100_000\n",
    "wins = 0\n",
    "\n",
    "for _ in range(simulation):\n",
    "    regions = 0\n",
    "    if random.random() < 0.87: regions += 1\n",
    "    if random.random() < 0.65: regions += 1\n",
    "    if random.random() < 0.17: regions += 1\n",
    "    if regions >= 2: wins += 1\n",
    "print(f'Estimated probability that Candidate A wins is {wins / simulation:.2%}.')"
   ]
  }
 ],
 "metadata": {
  "kernelspec": {
   "display_name": "Python [conda env:base] *",
   "language": "python",
   "name": "conda-base-py"
  },
  "language_info": {
   "codemirror_mode": {
    "name": "ipython",
    "version": 3
   },
   "file_extension": ".py",
   "mimetype": "text/x-python",
   "name": "python",
   "nbconvert_exporter": "python",
   "pygments_lexer": "ipython3",
   "version": "3.13.5"
  }
 },
 "nbformat": 4,
 "nbformat_minor": 5
}
