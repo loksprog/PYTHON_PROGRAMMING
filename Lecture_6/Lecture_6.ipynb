{
 "cells": [
  {
   "cell_type": "markdown",
   "id": "4167d7db-c037-4592-beec-cd62b8e869ab",
   "metadata": {},
   "source": [
    "# Review Exercises Page 14"
   ]
  },
  {
   "cell_type": "code",
   "execution_count": 15,
   "id": "330f74f7-a20d-4bb2-851b-93ac44c7ad52",
   "metadata": {},
   "outputs": [
    {
     "name": "stdout",
     "output_type": "stream",
     "text": [
      "Philo's coat is brown.\n"
     ]
    }
   ],
   "source": [
    "#1\n",
    "class Dog:\n",
    "    species = 'Canis familiaris'\n",
    "\n",
    "    def __init__(self, name, age, coat_color):\n",
    "        self.name = name\n",
    "        self.age = age\n",
    "        self.coat_color = coat_color\n",
    "\n",
    "    def description(self):\n",
    "        return f'{self.name} is {self.age} years old.'\n",
    "\n",
    "    def speak(self, sound):\n",
    "        return f'{self.name} says {sound}'\n",
    "\n",
    "philo = Dog('Philo', 5, 'brown')\n",
    "print(f\"{philo.name}'s coat is {philo.coat_color}.\")\n"
   ]
  },
  {
   "cell_type": "code",
   "execution_count": 9,
   "id": "6c0827cd-1ecf-4457-afdf-e3eb0bbcc96e",
   "metadata": {},
   "outputs": [
    {
     "name": "stdout",
     "output_type": "stream",
     "text": [
      "The blue car has 20,000 miles.\n",
      "The red car has 30,000 miles.\n"
     ]
    }
   ],
   "source": [
    "#2\n",
    "class Car:\n",
    "    def __init__(self, color, mileage):\n",
    "        self.color = color\n",
    "        self.mileage = mileage\n",
    "\n",
    "    def description(self):\n",
    "        return f\"The {self.color} car has {self.mileage:,} miles.\"\n",
    "\n",
    "    def drive(self, num):\n",
    "        return f\"Current Mileage: {self.mileage + num}\"\n",
    "\n",
    "blue_car = Car('blue', 20000)\n",
    "red_car = Car('red', 30000)\n",
    "\n",
    "print(blue_car.description())\n",
    "print(red_car.description())"
   ]
  },
  {
   "cell_type": "code",
   "execution_count": 12,
   "id": "fc3627f4-eeb7-46a2-a6fd-bc2bd9f47b97",
   "metadata": {},
   "outputs": [
    {
     "name": "stdout",
     "output_type": "stream",
     "text": [
      "Current Mileage: 100\n"
     ]
    }
   ],
   "source": [
    "#3\n",
    "car1 = Car('white', 0)\n",
    "print(car1.drive(100))"
   ]
  },
  {
   "cell_type": "markdown",
   "id": "036acc66-7e52-4923-96b7-376b357a1373",
   "metadata": {},
   "source": [
    "# Review Exercises Page 20"
   ]
  },
  {
   "cell_type": "code",
   "execution_count": 18,
   "id": "eea30479-bb56-4b3a-9ebe-045ecaece6e9",
   "metadata": {},
   "outputs": [
    {
     "name": "stdout",
     "output_type": "stream",
     "text": [
      "Nelson says Bark\n",
      "Nelson says Woof!\n"
     ]
    }
   ],
   "source": [
    "#1\n",
    "class Dog:\n",
    "    species = 'Canis familiaris'\n",
    "\n",
    "    def __init__(self, name, age):\n",
    "        self.name = name\n",
    "        self.age = age\n",
    "\n",
    "    def __str__(self):\n",
    "        return f\"{self.name} is {self.age} years old\"\n",
    "\n",
    "    def speak(self, sound):\n",
    "        return f\"{self.name} says {sound}\"\n",
    "\n",
    "class GoldenRetriever(Dog):\n",
    "    def speak(self, sound = 'Bark'):\n",
    "        return f\"{self.name} says {sound}\"\n",
    "\n",
    "dog = GoldenRetriever('Nelson', 5)\n",
    "print(dog.speak())\n",
    "print(dog.speak('Woof!'))"
   ]
  },
  {
   "cell_type": "code",
   "execution_count": 27,
   "id": "11e51459-ef0d-4236-8f1c-af072232b35b",
   "metadata": {},
   "outputs": [
    {
     "name": "stdout",
     "output_type": "stream",
     "text": [
      "Area: 16\n"
     ]
    }
   ],
   "source": [
    "#2\n",
    "class Rectangle:\n",
    "    def __init__(self, length, width):\n",
    "        self.length = length\n",
    "        self.width = width\n",
    "\n",
    "    def area(self):\n",
    "        return f\"Area: {self.length * self.width}\"\n",
    "\n",
    "class Square(Rectangle):\n",
    "    def __init__(self, side_length):\n",
    "        super().__init__(side_length, side_length)\n",
    "\n",
    "sqr = Square(4)\n",
    "print(sqr.area())"
   ]
  },
  {
   "cell_type": "markdown",
   "id": "e81c1540-229a-48f6-afd4-5661c0f13d5b",
   "metadata": {},
   "source": [
    "# Challenge: Model a Farm"
   ]
  },
  {
   "cell_type": "code",
   "execution_count": 39,
   "id": "631f992d-fd3c-42c9-ad51-4694b5e5e51e",
   "metadata": {},
   "outputs": [
    {
     "name": "stdout",
     "output_type": "stream",
     "text": [
      "Nugget says Cluck!\n",
      "Nugget laid an egg.\n",
      "Milky says Moo!\n",
      "Milky is walking across the field.\n",
      "Aoda says ssSSSSss!\n",
      "Aoda is slithering on the grass.\n"
     ]
    }
   ],
   "source": [
    "#1 \n",
    "class Animal:\n",
    "    def __init__(self, name, sound):\n",
    "        self.name = name\n",
    "        self.sound = sound\n",
    "\n",
    "    def speak(self):\n",
    "        return f\"{self.name} says {self.sound}\"\n",
    "\n",
    "    def eat(self):\n",
    "        return f\"{self.name} is eating.\"\n",
    "\n",
    "class Chicken(Animal):\n",
    "    def __init__(self, name):\n",
    "        super().__init__(name, 'Cluck!')\n",
    "\n",
    "    def lay_egg(self):\n",
    "        return f\"{self.name} laid an egg.\"\n",
    "\n",
    "class Cow(Animal):\n",
    "    def __init__(self, name):\n",
    "        super().__init__(name, 'Moo!')\n",
    "\n",
    "    def walk(self):\n",
    "        return f\"{self.name} is walking across the field.\"\n",
    "\n",
    "class Snake(Animal):\n",
    "    def __init__(self, name):\n",
    "        super().__init__(name, 'ssSSSSss!')\n",
    "\n",
    "    def slither(self):\n",
    "        return f\"{self.name} is slithering on the grass.\"\n",
    "\n",
    "chicken = Chicken(\"Nugget\")\n",
    "cow = Cow(\"Milky\")\n",
    "snake = Snake(\"Aoda\")\n",
    "print(chicken.speak())\n",
    "print(chicken.lay_egg())\n",
    "print(cow.speak())\n",
    "print(cow.walk())\n",
    "print(snake.speak())\n",
    "print(snake.slither())"
   ]
  },
  {
   "cell_type": "code",
   "execution_count": null,
   "id": "2c86c2f5-1b14-4c70-a51b-9afd5c173008",
   "metadata": {},
   "outputs": [],
   "source": []
  }
 ],
 "metadata": {
  "kernelspec": {
   "display_name": "Python [conda env:base] *",
   "language": "python",
   "name": "conda-base-py"
  },
  "language_info": {
   "codemirror_mode": {
    "name": "ipython",
    "version": 3
   },
   "file_extension": ".py",
   "mimetype": "text/x-python",
   "name": "python",
   "nbconvert_exporter": "python",
   "pygments_lexer": "ipython3",
   "version": "3.13.5"
  }
 },
 "nbformat": 4,
 "nbformat_minor": 5
}
