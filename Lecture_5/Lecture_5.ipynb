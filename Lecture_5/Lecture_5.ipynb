{
 "cells": [
  {
   "cell_type": "markdown",
   "id": "d52e0612-a48c-421c-8a7f-54de7459a19b",
   "metadata": {},
   "source": [
    "# Lecture 5 Exercises"
   ]
  },
  {
   "cell_type": "markdown",
   "id": "f36b838a-aa31-4579-860b-4da6a7f74693",
   "metadata": {},
   "source": [
    "# Review Exercises Page 17"
   ]
  },
  {
   "cell_type": "code",
   "execution_count": null,
   "id": "b9fca486-7f81-4a43-bbc3-cebc2dc55450",
   "metadata": {},
   "outputs": [],
   "source": [
    "#1\n",
    "cardinal_numbers = (\"First\", \"Second\", \"Third\")"
   ]
  },
  {
   "cell_type": "code",
   "execution_count": 15,
   "id": "08c392d2-ac69-40ad-96cc-2bed96157e5d",
   "metadata": {},
   "outputs": [
    {
     "name": "stdout",
     "output_type": "stream",
     "text": [
      "Second\n"
     ]
    }
   ],
   "source": [
    "#2 \n",
    "print(cardinal_numbers[1])"
   ]
  },
  {
   "cell_type": "code",
   "execution_count": 11,
   "id": "cea84fc6-aba5-435d-a574-20d7d04645ef",
   "metadata": {},
   "outputs": [
    {
     "name": "stdout",
     "output_type": "stream",
     "text": [
      "Position 1: First\n",
      "Position 2: Second\n",
      "Position 3: Third\n"
     ]
    }
   ],
   "source": [
    "#3\n",
    "position1, position2, position3 = cardinal_numbers\n",
    "print(f'''Position 1: {position1}\n",
    "Position 2: {position2}\n",
    "Position 3: {position3}''')"
   ]
  },
  {
   "cell_type": "code",
   "execution_count": 28,
   "id": "34143c4c-f4ab-4d88-b5c7-d60540485921",
   "metadata": {},
   "outputs": [
    {
     "name": "stdout",
     "output_type": "stream",
     "text": [
      "('l', 'u', 'k', 'e')\n"
     ]
    }
   ],
   "source": [
    "#4\n",
    "my_name = tuple('luke')\n",
    "print(my_name)"
   ]
  },
  {
   "cell_type": "code",
   "execution_count": 26,
   "id": "db8339e9-9963-4042-8339-c6e7e89955d2",
   "metadata": {},
   "outputs": [
    {
     "name": "stdout",
     "output_type": "stream",
     "text": [
      "True\n"
     ]
    }
   ],
   "source": [
    "#5\n",
    "if 'x' in my_name == true or 'X' in my_name:\n",
    "    print('True')\n",
    "else: \n",
    "    print('False')"
   ]
  },
  {
   "cell_type": "code",
   "execution_count": 31,
   "id": "8c71e7c4-8ad3-42e2-ae66-652a7e8c9b65",
   "metadata": {},
   "outputs": [
    {
     "name": "stdout",
     "output_type": "stream",
     "text": [
      "('u', 'k', 'e')\n"
     ]
    }
   ],
   "source": [
    "#6\n",
    "remain = (my_name[1:])\n",
    "print(remain)"
   ]
  },
  {
   "cell_type": "markdown",
   "id": "83ac43d1-8ed5-435f-9108-06c5f7c82cf7",
   "metadata": {},
   "source": [
    "# Review Exercises Page 36"
   ]
  },
  {
   "cell_type": "code",
   "execution_count": 50,
   "id": "b65a100c-0810-4726-8930-3513e14e18fc",
   "metadata": {},
   "outputs": [],
   "source": [
    "#1\n",
    "food = ['rice', 'beans']"
   ]
  },
  {
   "cell_type": "code",
   "execution_count": 51,
   "id": "eeb83e1e-2592-4403-b547-edacb29233a4",
   "metadata": {},
   "outputs": [],
   "source": [
    "#2\n",
    "food.append('broccoli')"
   ]
  },
  {
   "cell_type": "code",
   "execution_count": 53,
   "id": "2455d55c-790f-42d1-b608-6b9cacff8d13",
   "metadata": {},
   "outputs": [],
   "source": [
    "#3\n",
    "food.extend(['bread', 'pizza'])"
   ]
  },
  {
   "cell_type": "code",
   "execution_count": 59,
   "id": "ddf27160-3126-4230-9832-e248fcf11e99",
   "metadata": {},
   "outputs": [
    {
     "name": "stdout",
     "output_type": "stream",
     "text": [
      "['rice', 'beans']\n"
     ]
    }
   ],
   "source": [
    "#4\n",
    "print(food[0:2])"
   ]
  },
  {
   "cell_type": "code",
   "execution_count": 57,
   "id": "a6e1a1ac-4b60-4a4f-846e-06804769cb68",
   "metadata": {},
   "outputs": [
    {
     "name": "stdout",
     "output_type": "stream",
     "text": [
      "pizza\n"
     ]
    }
   ],
   "source": [
    "#5\n",
    "print(food[4])"
   ]
  },
  {
   "cell_type": "code",
   "execution_count": 12,
   "id": "5e5a10b6-3fdc-4f8e-bb09-6da39812c25f",
   "metadata": {},
   "outputs": [
    {
     "name": "stdout",
     "output_type": "stream",
     "text": [
      "['eggs', 'fruit', 'orange juice']\n"
     ]
    }
   ],
   "source": [
    "#6\n",
    "lists = \"eggs, fruit, orange juice\"\n",
    "breakfast = lists.split(', ')\n",
    "print(breakfast)"
   ]
  },
  {
   "cell_type": "code",
   "execution_count": 13,
   "id": "9ffc39db-c273-4db0-b9a0-40e1eef1c334",
   "metadata": {},
   "outputs": [
    {
     "name": "stdout",
     "output_type": "stream",
     "text": [
      "3\n"
     ]
    }
   ],
   "source": [
    "#7\n",
    "print(len(breakfast))"
   ]
  },
  {
   "cell_type": "code",
   "execution_count": 15,
   "id": "3bc076f5-7dfe-4550-a6d6-a925346c46fd",
   "metadata": {},
   "outputs": [
    {
     "name": "stdout",
     "output_type": "stream",
     "text": [
      "[4, 5, 12]\n"
     ]
    }
   ],
   "source": [
    "#8\n",
    "lengths = [len(n) for n in breakfast]\n",
    "print(lengths)"
   ]
  },
  {
   "cell_type": "markdown",
   "id": "5311e37a-9d28-40b2-b946-c637dd9fea3d",
   "metadata": {},
   "source": [
    "# Review Exercises Page 41"
   ]
  },
  {
   "cell_type": "code",
   "execution_count": 20,
   "id": "9dac137f-f9d7-4ce7-9b47-a5ee34204b8b",
   "metadata": {},
   "outputs": [],
   "source": [
    "#1\n",
    "data = ((1, 2), (3, 4))"
   ]
  },
  {
   "cell_type": "code",
   "execution_count": 23,
   "id": "c5cc0d97-3f57-4072-90cc-c8c521dc72f8",
   "metadata": {},
   "outputs": [
    {
     "name": "stdout",
     "output_type": "stream",
     "text": [
      "Row 1 Sum: 3\n",
      "Row 2 Sum: 7\n"
     ]
    }
   ],
   "source": [
    "#2\n",
    "count = 0\n",
    "for n in data:\n",
    "    total = sum(n)\n",
    "    count += 1\n",
    "    print(f'Row {count} Sum: {total}')"
   ]
  },
  {
   "cell_type": "code",
   "execution_count": 24,
   "id": "16d011c0-5286-4a34-8d34-791314916114",
   "metadata": {},
   "outputs": [
    {
     "data": {
      "text/plain": [
       "((1, 2), (3, 4))"
      ]
     },
     "execution_count": 24,
     "metadata": {},
     "output_type": "execute_result"
    }
   ],
   "source": [
    "#4\n",
    "numbers = data[:]\n",
    "numbers"
   ]
  },
  {
   "cell_type": "code",
   "execution_count": 35,
   "id": "1c95641b-5f18-436f-922a-aa51f735f04f",
   "metadata": {},
   "outputs": [
    {
     "name": "stdout",
     "output_type": "stream",
     "text": [
      "[(1, 2), (3, 4)]\n"
     ]
    }
   ],
   "source": [
    "#5\n",
    "convert = list(data)\n",
    "convert.sort()\n",
    "print(convert)\n"
   ]
  },
  {
   "cell_type": "markdown",
   "id": "33d19904-e625-424f-acad-c1b98726e5e1",
   "metadata": {},
   "source": [
    "# Challenge: List of Lists"
   ]
  },
  {
   "cell_type": "code",
   "execution_count": 39,
   "id": "99588fbf-2d16-411f-bdfd-1842bd77ad78",
   "metadata": {},
   "outputs": [],
   "source": [
    "universities = [\n",
    "    ['California Institute of Technology', 2175, 37704],\n",
    "    ['Harvard', 19627, 39849],\n",
    "    ['Massachusetts Institute of Technology', 10566, 40732],\n",
    "    ['Princeton', 7802, 37000],\n",
    "    ['Rice', 5879, 35551],\n",
    "    ['Stanford', 19353, 40569],\n",
    "    ['Yale', 11701, 40500],\n",
    "]"
   ]
  },
  {
   "cell_type": "markdown",
   "id": "39e0196f-574d-49ee-8b87-e4fdb51e5bc3",
   "metadata": {},
   "source": [
    "# Challenge: Wax Poetic"
   ]
  },
  {
   "cell_type": "code",
   "execution_count": null,
   "id": "f91367df-21a5-4ac9-b119-3b18c9f566f1",
   "metadata": {},
   "outputs": [],
   "source": [
    "nouns = ['fossil', 'horse', 'aardvark', 'judge', 'chef', 'mango', 'extrovert', 'gorilla']\n",
    "verbs = ['kicks', 'jingles', 'bounces', 'slurps', 'meows', 'explodes', 'curdles']\n",
    "adjectives = ['furry', 'balding', 'incredulous', 'fragrant', 'exuberant', 'glistening']\n",
    "prepositions = ['against', 'after', 'into', 'beneath', 'upon', 'for', 'in', 'like', 'over', 'within']\n",
    "adverbs = ['curiously', 'furiously', 'sensuously', 'extravagantly', 'tantalizingly']"
   ]
  },
  {
   "cell_type": "code",
   "execution_count": null,
   "id": "fc74c34b-21e2-48ab-9519-8f942807273f",
   "metadata": {},
   "outputs": [],
   "source": []
  }
 ],
 "metadata": {
  "kernelspec": {
   "display_name": "Python 3 (ipykernel)",
   "language": "python",
   "name": "python3"
  },
  "language_info": {
   "codemirror_mode": {
    "name": "ipython",
    "version": 3
   },
   "file_extension": ".py",
   "mimetype": "text/x-python",
   "name": "python",
   "nbconvert_exporter": "python",
   "pygments_lexer": "ipython3",
   "version": "3.13.5"
  }
 },
 "nbformat": 4,
 "nbformat_minor": 5
}
