{
 "cells": [
  {
   "cell_type": "markdown",
   "id": "3f6963d9-d15c-4a23-8ac9-b2b644a3604d",
   "metadata": {},
   "source": [
    "# Midterm Exam "
   ]
  },
  {
   "cell_type": "markdown",
   "id": "0e5197e6-fbb8-40df-bead-a35e56e8f542",
   "metadata": {},
   "source": [
    "### Q1.  String Normalizer & Finder"
   ]
  },
  {
   "cell_type": "markdown",
   "id": "3155f09b-0890-4151-87ba-2c9281ca3ad2",
   "metadata": {},
   "source": [
    "Write a function normalize_and_find(text:\n",
    "str, needle: str) -> int that: (1) trims whitespace on both ends, (2) converts to lowercase, then (3) returns the index of the first occurrence of needle using\n",
    "a safe search (return −1 if not found). Discuss alternatives (find vs. index), and\n",
    "how your choice affects error handling. Anchor concepts: stripping, case conversion,\n",
    "find/replace, string immutability."
   ]
  },
  {
   "cell_type": "markdown",
   "id": "98f4ba44-0405-4c73-b893-7c5c41327d2c",
   "metadata": {},
   "source": [
    "##### Prompt"
   ]
  },
  {
   "cell_type": "markdown",
   "id": "31949055-c5c8-45b0-bc0e-48c75feebd3b",
   "metadata": {},
   "source": [
    "Write a Python function normalize_and_find(text: str, needle: str) that trims whitespace on both sides, converts the text to lowercase, and returns the index of the first occurrence of needle. Return -1 if not found."
   ]
  },
  {
   "cell_type": "markdown",
   "id": "215c2de0-825f-4554-b4c4-dfcf4d5fe0e4",
   "metadata": {},
   "source": [
    "##### ChatGPT Code"
   ]
  },
  {
   "cell_type": "code",
   "execution_count": 12,
   "id": "76fc7fa7-9b63-4029-a072-c0da66f44d9d",
   "metadata": {},
   "outputs": [
    {
     "name": "stdout",
     "output_type": "stream",
     "text": [
      "6\n",
      "-1\n"
     ]
    }
   ],
   "source": [
    "def normalize_and_find(text, needle):\n",
    "    text = text.strip().lower()\n",
    "    needle = needle.lower()\n",
    "    return text.find(needle)\n",
    "\n",
    "print(normalize_and_find(\"  Hello World  \", \"world\"))\n",
    "print(normalize_and_find(\"Python\", \"java\")) "
   ]
  },
  {
   "cell_type": "markdown",
   "id": "a32a17cb-24b0-483a-b8f5-df66d54c142e",
   "metadata": {},
   "source": [
    "##### Critique"
   ]
  },
  {
   "cell_type": "markdown",
   "id": "740249e2-e048-44a6-a0bb-284e67d955e9",
   "metadata": {},
   "source": [
    "__Correctness__ : The function works and returns −1 when not found."
   ]
  },
  {
   "cell_type": "markdown",
   "id": "a2141ead-c7e5-4eb2-8428-f002b49729d7",
   "metadata": {},
   "source": [
    "__Complexity__ : Optimal for string search."
   ]
  },
  {
   "cell_type": "markdown",
   "id": "b483b7da-5da3-45e2-b642-9b72d248c9a0",
   "metadata": {},
   "source": [
    "__Robustness__ : Lacks basic input handling — it assumes both inputs are strings and could crash if given None or numbers."
   ]
  },
  {
   "cell_type": "markdown",
   "id": "86126284-448c-40d8-a4bc-a399ed394448",
   "metadata": {},
   "source": [
    "__Readability__  : Compact, but could use comments and clearer flow."
   ]
  },
  {
   "cell_type": "markdown",
   "id": "80d2da17-0747-487f-a60d-4b0c5d63c69b",
   "metadata": {},
   "source": [
    "__Faithfulness__ : Uses strip(), find(), and lower() from Lesson 1"
   ]
  },
  {
   "cell_type": "markdown",
   "id": "14c2634c-d373-45a1-90f9-7bacf0cf0bfd",
   "metadata": {},
   "source": [
    "__Discussion (find vs index)__ : .find() safely returns -1 when the substring isn’t found. .index() raises a ValueError instead, which would require a try/except block to handle."
   ]
  },
  {
   "cell_type": "markdown",
   "id": "084e0878-f109-4d99-ad2d-9c6e3d34fb29",
   "metadata": {},
   "source": [
    "##### Improved Code"
   ]
  },
  {
   "cell_type": "code",
   "execution_count": 17,
   "id": "c79cd5f7-4d45-4535-be3a-e192eb9283e1",
   "metadata": {},
   "outputs": [
    {
     "name": "stdout",
     "output_type": "stream",
     "text": [
      "6\n",
      "-1\n",
      "Error: Both inputs must be strings.\n",
      "-1\n"
     ]
    }
   ],
   "source": [
    "def normalize_and_find(text: str, needle: str) -> int:\n",
    "    # Basic error handling for non-string inputs\n",
    "    try:\n",
    "        text = text.strip().lower()\n",
    "        needle = needle.lower()\n",
    "        return text.find(needle)\n",
    "    except AttributeError:\n",
    "        print(\"Error: Both inputs must be strings.\")\n",
    "        return -1\n",
    "\n",
    "# Test\n",
    "print(normalize_and_find(\"  Hello World  \", \"world\"))\n",
    "print(normalize_and_find(\"Python\", \"java\"))           \n",
    "print(normalize_and_find(123, \"1\"))                    "
   ]
  },
  {
   "cell_type": "markdown",
   "id": "1cebf5b8-7f91-48b3-b566-036187aa8f3e",
   "metadata": {},
   "source": [
    "##### Citation"
   ]
  },
  {
   "cell_type": "markdown",
   "id": "888584f1-ae7a-4f50-a027-6c1ab2e6d8a0",
   "metadata": {},
   "source": [
    "_Lesson 1_ > strip(), find(), and lower()"
   ]
  },
  {
   "cell_type": "markdown",
   "id": "7a41d571-4751-4c61-8ef3-d1000415201c",
   "metadata": {},
   "source": [
    "_Lesson 4_ > try and except"
   ]
  },
  {
   "cell_type": "markdown",
   "id": "2fb7582c-08f5-43a6-bece-2973400adf0e",
   "metadata": {},
   "source": [
    "### Q2. Leetspeak Translator (Parametric)"
   ]
  },
  {
   "cell_type": "markdown",
   "id": "dee434e4-b19d-40a0-b8ec-4b0692f05abf",
   "metadata": {},
   "source": [
    "Generalize our leetspeak idea: write translate(text:\n",
    "str, mapping: dict[str,str]) -> str that applies a mapping (e.g., {’a’:’4’,’e’:’3’,...})\n",
    "over lowercase letters only, leaving others unchanged. Explain why strings are immutable and show an efficient approach (e.g., list join vs. repeated concatenation). Anchor concepts: replace, iteration strategies, efficiency."
   ]
  },
  {
   "cell_type": "markdown",
   "id": "a129a082-1bad-42e1-810e-45e2fedfbf66",
   "metadata": {},
   "source": [
    "##### Prompt"
   ]
  },
  {
   "cell_type": "markdown",
   "id": "875376dd-1cc2-4771-bc9c-cf34ccc15540",
   "metadata": {},
   "source": [
    "Generalize our leetspeak idea: write translate(text:\n",
    "str, mapping: dict[str,str]) -> str that applies a mapping (e.g., {’a’:’4’,’e’:’3’,...})\n",
    "over lowercase letters only, leaving others unchanged. Explain why strings are immutable and show an efficient approach (e.g., list join vs. repeated concatenation). \n",
    "\n",
    "Anchor concepts: replace, iteration strategies, efficiency."
   ]
  },
  {
   "cell_type": "markdown",
   "id": "7371946f-7cfd-4f55-a39b-0edc03360027",
   "metadata": {},
   "source": [
    "##### ChatGPT Code"
   ]
  },
  {
   "cell_type": "code",
   "execution_count": null,
   "id": "92a8602b-14d5-47ca-bfd9-9dd6bc808783",
   "metadata": {},
   "outputs": [],
   "source": [
    "def translate(text, mapping):\n",
    "    result = \"\"\n",
    "    for ch in text:\n",
    "        if ch.lower() in mapping:\n",
    "            result += mapping[ch.lower()]\n",
    "        else:\n",
    "            result += ch\n",
    "    return result"
   ]
  },
  {
   "cell_type": "markdown",
   "id": "6d433a06-2998-472d-809a-9cd53674bbb1",
   "metadata": {},
   "source": [
    "##### Critique"
   ]
  },
  {
   "cell_type": "markdown",
   "id": "e1ce49fc-dafb-478d-8da4-79a3594db3e3",
   "metadata": {},
   "source": [
    "__Correctness__ : The code correctly replaces characters based on the mapping dictionary"
   ]
  },
  {
   "cell_type": "markdown",
   "id": "4abc0ce8-bee8-48a4-9ebc-50f16d260615",
   "metadata": {},
   "source": [
    "__Complexity__ : Goes through each character once, so it’s simple and efficient enough for normal text."
   ]
  },
  {
   "cell_type": "markdown",
   "id": "291fbba4-ab77-4d28-a4e0-85858d7c12ad",
   "metadata": {},
   "source": [
    "__Robustness__ : It doesn’t handle errors if invalid inputs are given, and repeated concatenation inside the loop can be improved."
   ]
  },
  {
   "cell_type": "markdown",
   "id": "c19cc3fa-c57a-4e08-9564-2297f0d92d34",
   "metadata": {},
   "source": [
    "__Readability__ : Easy to read, but maybe change ch to char to know it's for characters."
   ]
  },
  {
   "cell_type": "markdown",
   "id": "c53c0ff5-1a2d-4e45-bda2-b6328d7f96f0",
   "metadata": {},
   "source": [
    "__Faithfulness__ : It uses functions and loops from Lesson 3. If else from Lesson 4. Also .lower() from Lesson 1"
   ]
  },
  {
   "cell_type": "markdown",
   "id": "b79e06d6-ea21-40d9-9157-cb6bd5cf958e",
   "metadata": {},
   "source": [
    "__Discussion__ : In Python, strings are immutable, meaning each time we do result += ch, a new string is created in memory. This makes repeated concatenation slower for long texts. A more efficient way is to collect characters in a list and use \"\".join(result) at the end to build the final string in one step."
   ]
  },
  {
   "cell_type": "markdown",
   "id": "9b6a5900-94cf-4e65-8a02-bcb33e37d363",
   "metadata": {},
   "source": [
    "##### Improved Code"
   ]
  },
  {
   "cell_type": "code",
   "execution_count": 26,
   "id": "e9a2ec95-545e-4462-9799-532d05606860",
   "metadata": {},
   "outputs": [
    {
     "name": "stdout",
     "output_type": "stream",
     "text": [
      "H3ll0 41!\n",
      "\n"
     ]
    }
   ],
   "source": [
    "def translate(text: str, mapping: dict[str, str]) -> str:\n",
    "    try:\n",
    "        result = []\n",
    "        for char in text:\n",
    "            if char.lower() in mapping:\n",
    "                result.append(mapping[char.lower()])\n",
    "            else:\n",
    "                result.append(char)\n",
    "        return \"\".join(result)\n",
    "    except Exception:\n",
    "        print(\"Error: Invalid input or mapping.\")\n",
    "        return \"\"\n",
    "        \n",
    "# Display\n",
    "leet = {'a': '4', 'e': '3', 'i': '1', 'o': '0'}\n",
    "print(translate(\"Hello AI!\", leet))  \n",
    "print(translate(\"\", leet))           \n"
   ]
  },
  {
   "cell_type": "markdown",
   "id": "b1093fc5-7fa7-4c99-9312-effc99b4f16b",
   "metadata": {},
   "source": [
    "##### Citations"
   ]
  },
  {
   "cell_type": "markdown",
   "id": "8bdb61e8-cfd1-4994-9895-74f01d3448c8",
   "metadata": {},
   "source": [
    "_Lesson 3_ : Functions and Loops"
   ]
  },
  {
   "cell_type": "markdown",
   "id": "a5337a39-edf0-40f4-85b4-f7ac1f50b6a1",
   "metadata": {},
   "source": [
    "_Lesson 4_ : The Try and Except Keyword, Conditional Logic"
   ]
  },
  {
   "cell_type": "markdown",
   "id": "3ffd6449-cb22-4a45-a08d-a060e2ade07b",
   "metadata": {},
   "source": [
    "_Lesson 5_ : Dictionaries, List Methods for Adding and Removing Elements"
   ]
  },
  {
   "cell_type": "markdown",
   "id": "ed0dbcf6-0461-4efc-b80e-ac88c46096c9",
   "metadata": {},
   "source": [
    "### Q3. Currency Formatter & Rounding Ties-to-Even."
   ]
  },
  {
   "cell_type": "markdown",
   "id": "372626f0-5afd-479a-928d-525692e181bf",
   "metadata": {},
   "source": [
    "Write fmt_money(x: float) -> str that returns a string like 1,234.50 using proper rounding (banker’s rounding / ties-to-even). Include test cases that demonstrate ties (e.g., 2.5, 3.5). Explain\n",
    "2 floating-point representation error and how formatting mitigates it for display. Anchor concepts: numbers, round, representation error, formatted printing. "
   ]
  },
  {
   "cell_type": "markdown",
   "id": "ad747288-31e5-41ec-8bc9-3cb769ce59b4",
   "metadata": {},
   "source": [
    "##### Code"
   ]
  },
  {
   "cell_type": "code",
   "execution_count": 5,
   "id": "b7940198-1dea-4e73-8c42-3da307213994",
   "metadata": {},
   "outputs": [
    {
     "name": "stdout",
     "output_type": "stream",
     "text": [
      "1,234.50\n",
      "0.14\n",
      "2.67\n",
      "Error: Please enter a numeric value.\n",
      "0.00\n"
     ]
    }
   ],
   "source": [
    "def fmt_money(x: float) -> str:\n",
    "    try:\n",
    "        # round() uses banker's rounding (ties-to-even)\n",
    "        rounded = round(x, 2)\n",
    "        # formatting \n",
    "        return f\"{rounded:,.2f}\"\n",
    "    except TypeError:\n",
    "        print(\"Error: Please enter a numeric value.\")\n",
    "        return \"0.00\"\n",
    "\n",
    "# Tests Display\n",
    "print(fmt_money(1234.5))\n",
    "print(fmt_money(0.145))    # (floating-point limitation example)\n",
    "print(fmt_money(2.675))    # (floating-point limitation example)\n",
    "print(fmt_money(\"abc\"))    # Error handled"
   ]
  },
  {
   "cell_type": "markdown",
   "id": "0e3d893d-8744-4b17-8862-ffc0481bbb0b",
   "metadata": {},
   "source": [
    "__Explanation__ : Some decimal numbers (like 0.145 and 2.675) can’t be stored exactly in binary, causing slight precision errors. Using formatted strings such as f\"{value:,.2f}\" helps hide these small binary errors and ensures consistent display for currency values."
   ]
  },
  {
   "cell_type": "markdown",
   "id": "c638680c-6618-4b26-99af-6c9c3d71dae1",
   "metadata": {},
   "source": [
    "##### Citations"
   ]
  },
  {
   "cell_type": "markdown",
   "id": "5ad6c8d1-7cc2-46a3-af98-2094136e3793",
   "metadata": {},
   "source": [
    "_Lesson 2_ : Arithmetic Operations and Expressions, Floating-Point Representation Error, Math Functions"
   ]
  },
  {
   "cell_type": "markdown",
   "id": "41167735-4dc1-4a62-88a7-5aef11a22f86",
   "metadata": {},
   "source": [
    "_Lesson 3_ : Functions"
   ]
  },
  {
   "cell_type": "markdown",
   "id": "5905c1ec-56f5-420f-bf1d-2d5dd88be7c7",
   "metadata": {},
   "source": [
    "_Lesson 4_ : The Try and Except Keyword"
   ]
  },
  {
   "cell_type": "markdown",
   "id": "d7aecd6d-8277-4522-9674-5a5153dc77b8",
   "metadata": {},
   "source": [
    "### Q4. Exponent Tool & Input Validation."
   ]
  },
  {
   "cell_type": "markdown",
   "id": "612b9b63-f4d1-40eb-a6ac-36e528fa551a",
   "metadata": {},
   "source": [
    "Create a CLI program exponent.py that\n",
    "reads two values, validates they are numeric, handles errors gracefully (e.g., ValueError),\n",
    "and prints a ** b with clear messages. Compare using try/except vs. pre-validation\n",
    "with str.isdigit() (and why isdigit() is insufficient for negatives/floats). Anchor concepts: arithmetic operators, exceptions, input."
   ]
  },
  {
   "cell_type": "markdown",
   "id": "3eb256bb-d5a7-4e97-a22c-bf796ee387ad",
   "metadata": {},
   "source": [
    "##### Code"
   ]
  },
  {
   "cell_type": "code",
   "execution_count": 7,
   "id": "1a34208c-bcd0-4a68-a9c0-a687f31908ee",
   "metadata": {},
   "outputs": [
    {
     "name": "stdin",
     "output_type": "stream",
     "text": [
      "Enter base:  3\n",
      "Enter exponent:  3\n"
     ]
    },
    {
     "name": "stdout",
     "output_type": "stream",
     "text": [
      "The result of 3.0 ** 3.0 is 27.0\n"
     ]
    }
   ],
   "source": [
    "try:\n",
    "    base = float(input(\"Enter base: \"))\n",
    "    exp = float(input(\"Enter exponent: \"))\n",
    "    result = base ** exp\n",
    "    print(f\"The result of {base} ** {exp} is {result}\")\n",
    "except ValueError:\n",
    "    print(\"Error: Please enter valid numbers only.\")"
   ]
  },
  {
   "cell_type": "markdown",
   "id": "48d8a3ae-eb74-41c9-85b8-677b20554e83",
   "metadata": {},
   "source": [
    "__Discussion (try/except vs. isdigit):__ try/except can handle integers, floats, and negative numbers. str.isdigit() only works for positive integers (e.g., \"5\") and fails for \"−3\" or \"2.5\"."
   ]
  },
  {
   "cell_type": "markdown",
   "id": "311d15cf-4dea-4da6-b072-952ea1a27e66",
   "metadata": {},
   "source": [
    "##### Citations"
   ]
  },
  {
   "cell_type": "markdown",
   "id": "8cbc9bfc-2182-4c83-8d08-25dccb1fb70f",
   "metadata": {},
   "source": [
    "_Lesson 2_ : Arithmetic Operations and Expressions, Math Functions"
   ]
  },
  {
   "cell_type": "markdown",
   "id": "cc960882-ee51-49c4-99ca-97e58ecabea5",
   "metadata": {},
   "source": [
    "_Lesson 4_ : The Try and Except Keyword"
   ]
  },
  {
   "cell_type": "markdown",
   "id": "081feb2d-3cc3-46d4-a4c2-2e163d721672",
   "metadata": {},
   "source": [
    "### Q5. Password Policy Checker (If/Elif/Else + Loops)."
   ]
  },
  {
   "cell_type": "markdown",
   "id": "32530eac-79d3-4dd0-9bad-8ad82bc06fcf",
   "metadata": {},
   "source": [
    "Implement check_password(pw: str) -> dict that validates: length ≥ 10, at least one uppercase, one lowercase, one digit, one symbol in !@#$%^&*, and no spaces. Return a dict of booleans per\n",
    "rule and an overall pass/fail. Include a loop that prompts until a valid password\n",
    "is entered (allow quit with Q/q). Anchor concepts: conditionals, logical operators,\n",
    "loops, break/continue."
   ]
  },
  {
   "cell_type": "markdown",
   "id": "dbf65b1d-060f-49bc-a271-e096489eb383",
   "metadata": {},
   "source": [
    "##### Prompt"
   ]
  },
  {
   "cell_type": "markdown",
   "id": "13584cb4-05c0-4773-a7fb-8701c6593a11",
   "metadata": {},
   "source": [
    "Write a Python function check_password(pw: str) -> dict that checks if the password meets all requirements (length, uppercase, lowercase, digit, symbol, no space).\n",
    "It should keep asking for a new password until one is valid or the user quits with Q/q."
   ]
  },
  {
   "cell_type": "markdown",
   "id": "3d578c02-de1a-45c1-8245-a7917fee9f3a",
   "metadata": {},
   "source": [
    "##### ChatGPT Code"
   ]
  },
  {
   "cell_type": "code",
   "execution_count": 8,
   "id": "fcff3e16-fbe1-43fe-a4b4-7638e124f4ae",
   "metadata": {},
   "outputs": [],
   "source": [
    "def check_password(pw):\n",
    "    result = {\n",
    "        \"length\": len(pw) >= 10,\n",
    "        \"upper\": any(c.isupper() for c in pw),\n",
    "        \"lower\": any(c.islower() for c in pw),\n",
    "        \"digit\": any(c.isdigit() for c in pw),\n",
    "        \"symbol\": any(c in \"!@#$%^&*\" for c in pw),\n",
    "        \"space\": \" \" not in pw\n",
    "    }\n",
    "    result[\"valid\"] = all(result.values())\n",
    "    return result"
   ]
  },
  {
   "cell_type": "markdown",
   "id": "dd4894d2-9e55-49c9-94e4-2ffa184b0e64",
   "metadata": {},
   "source": [
    "##### Critique"
   ]
  },
  {
   "cell_type": "markdown",
   "id": "859349f1-193a-4b59-b12f-1524e2e0645f",
   "metadata": {},
   "source": [
    "__Correctness :__ Checks all conditions correctly, but doesn’t include the loop to re-prompt the user."
   ]
  },
  {
   "cell_type": "markdown",
   "id": "6080bb10-dca9-4525-9154-e54696fe2c48",
   "metadata": {},
   "source": [
    "__Complexity :__ Very manageable, checks are simple character scans."
   ]
  },
  {
   "cell_type": "markdown",
   "id": "f282047e-4d4d-4e72-b116-acc9a32d5075",
   "metadata": {},
   "source": [
    "__Robustness:__ : Missing user prompts and quit option."
   ]
  },
  {
   "cell_type": "markdown",
   "id": "25ed9820-9703-433e-8dd7-acd68c2370e9",
   "metadata": {},
   "source": [
    "__Readability:__ : Well structured, but could use more descriptive output and comments."
   ]
  },
  {
   "cell_type": "markdown",
   "id": "62bb5dd9-87cd-49c2-8357-6f05e0b48ea1",
   "metadata": {},
   "source": [
    "__Faithfulness:__ : Uses dictionary and function found on the notes on Functions and Dictionaries."
   ]
  },
  {
   "cell_type": "markdown",
   "id": "ca21d33b-dfed-490f-af04-72d09b137acf",
   "metadata": {},
   "source": [
    "##### Improved Code"
   ]
  },
  {
   "cell_type": "code",
   "execution_count": 10,
   "id": "a78e7b20-05a7-402e-ac8e-7b0e4b5e264c",
   "metadata": {},
   "outputs": [
    {
     "name": "stdin",
     "output_type": "stream",
     "text": [
      "Enter password (Q to quit):  Lhtu110504*\n"
     ]
    },
    {
     "name": "stdout",
     "output_type": "stream",
     "text": [
      "Password accepted!\n"
     ]
    }
   ],
   "source": [
    "def check_password(pw: str) -> dict:\n",
    "    rules = {\n",
    "        \"length\": len(pw) >= 10,\n",
    "        \"upper\": any(c.isupper() for c in pw),\n",
    "        \"lower\": any(c.islower() for c in pw),\n",
    "        \"digit\": any(c.isdigit() for c in pw),\n",
    "        \"symbol\": any(c in \"!@#$%^&*\" for c in pw),\n",
    "        \"no_space\": \" \" not in pw\n",
    "    }\n",
    "    rules[\"valid\"] = all(rules.values())\n",
    "    return rules\n",
    "\n",
    "# Loop to prompt until valid or quit\n",
    "while True:\n",
    "    pw = input(\"Enter password (Q to quit): \")\n",
    "    if pw.lower() == \"q\":\n",
    "        print(\"Exiting password check.\")\n",
    "        break\n",
    "\n",
    "    result = check_password(pw)\n",
    "    if result[\"valid\"]:\n",
    "        print(\"Password accepted!\")\n",
    "        break\n",
    "    else:\n",
    "        print(\"Password does not meet requirements. Try again.\")\n"
   ]
  },
  {
   "cell_type": "markdown",
   "id": "bd381975-26fc-4850-99ab-d0fa034fa3ce",
   "metadata": {},
   "source": [
    "##### Citations "
   ]
  },
  {
   "cell_type": "markdown",
   "id": "b714b399-b309-4b79-a9c0-5aa880f5e118",
   "metadata": {},
   "source": [
    "_Lesson 1_ : Converting String Case"
   ]
  },
  {
   "cell_type": "markdown",
   "id": "d39745a9-aee0-49eb-8f80-0acc257fec89",
   "metadata": {},
   "source": [
    "_Lesson 3_ : Functions and Loops"
   ]
  },
  {
   "cell_type": "markdown",
   "id": "e73d8147-3850-45c2-82cf-babf9df5e3ec",
   "metadata": {},
   "source": [
    "_Lesson 4_ : Conditional Logic and Control Flow"
   ]
  },
  {
   "cell_type": "markdown",
   "id": "3d480bc8-486e-4ef5-b8cd-4db348185ccd",
   "metadata": {},
   "source": [
    "_Lesson 5_ : Dictionaries"
   ]
  },
  {
   "cell_type": "markdown",
   "id": "f50217e0-ae47-4650-a038-3079f400e0f7",
   "metadata": {},
   "source": [
    "### Q6. Dice Simulation (Monte Carlo)"
   ]
  },
  {
   "cell_type": "markdown",
   "id": "51dca049-33ea-45d1-b3d0-430f666af9b2",
   "metadata": {},
   "source": [
    "Write roll() -> int to simulate a fair die,\n",
    "then simulate 100,000 rolls to estimate the probability that the sum of two dice\n",
    "equals 7. Compare empirical result to the exact probability. Comment on random\n",
    "seeding and reproducibility. Anchor concepts: random module, simulation, averages."
   ]
  },
  {
   "cell_type": "markdown",
   "id": "bba262dd-982b-42ad-a112-d95751ca3183",
   "metadata": {},
   "source": [
    "##### Prompt"
   ]
  },
  {
   "cell_type": "markdown",
   "id": "bab43314-bcad-4f6d-b893-319baced1efa",
   "metadata": {},
   "source": [
    "Write a Python program that simulates rolling two dice 100,000 times and estimates the probability that their sum equals 7.\n",
    "Include a comparison with the exact probability and mention the use of random seeds for reproducibility."
   ]
  },
  {
   "cell_type": "markdown",
   "id": "a9ad2e94-1a6e-4ea0-88e6-7fd5072d3435",
   "metadata": {},
   "source": [
    "##### ChatGPT Code"
   ]
  },
  {
   "cell_type": "code",
   "execution_count": 13,
   "id": "9db331ad-3f87-451a-8c1e-049aa060c8d1",
   "metadata": {},
   "outputs": [
    {
     "name": "stdout",
     "output_type": "stream",
     "text": [
      "0.16756\n"
     ]
    }
   ],
   "source": [
    "import random\n",
    "def roll():\n",
    "    return random.randint(1, 6)\n",
    "\n",
    "count = 0\n",
    "for _ in range(100000):\n",
    "    if roll() + roll() == 7:\n",
    "        count += 1\n",
    "print(count / 100000)"
   ]
  },
  {
   "cell_type": "markdown",
   "id": "30b001ff-a99f-471f-a494-172c2e56b3cf",
   "metadata": {},
   "source": [
    "##### Critique"
   ]
  },
  {
   "cell_type": "markdown",
   "id": "73804c1f-1271-4600-8b99-d85cb51bc16c",
   "metadata": {},
   "source": [
    "__Correctness :__ Correctly simulates dice rolls and estimates the probability."
   ]
  },
  {
   "cell_type": "markdown",
   "id": "c110cf28-bca5-41bc-b58e-6fcd4d98873b",
   "metadata": {},
   "source": [
    "__Complexity :__ Efficient, each trial runs in constant time; total is proportional to the number of rolls."
   ]
  },
  {
   "cell_type": "markdown",
   "id": "cf5f30a2-6757-4d74-9993-56cfa5444c00",
   "metadata": {},
   "source": [
    "__Robustness :__ Works fine but lacks clear structure and seed for reproducibility."
   ]
  },
  {
   "cell_type": "markdown",
   "id": "7dee5f20-741b-4a18-abf5-d6e92759f8e3",
   "metadata": {},
   "source": [
    "__Readibility :__ Simple and easy to follow, but should use a function for better organization."
   ]
  },
  {
   "cell_type": "markdown",
   "id": "cdd0d0f9-48f4-4b96-9308-19e14d3609a7",
   "metadata": {},
   "source": [
    "__Faithfulness :__ Matches lecture examples on simulations using random."
   ]
  },
  {
   "cell_type": "markdown",
   "id": "d2fb7e23-1a73-4f0e-b698-315bd2f25b87",
   "metadata": {},
   "source": [
    "##### Improved Code"
   ]
  },
  {
   "cell_type": "code",
   "execution_count": 16,
   "id": "056f7545-d1e0-4e08-a624-3b66685591d3",
   "metadata": {},
   "outputs": [
    {
     "name": "stdout",
     "output_type": "stream",
     "text": [
      "Estimated probability of sum = 7: 0.17036\n",
      "Exact probability: 1/6 = 0.16666666666666666\n"
     ]
    }
   ],
   "source": [
    "import random\n",
    "\n",
    "def roll() -> int:\n",
    "    return random.randint(1, 6)\n",
    "\n",
    "def simulate_dice(trials: int = 100000) -> float:\n",
    "    random.seed(0)  # for reproducibility\n",
    "    count = 0\n",
    "    for _ in range(trials):\n",
    "        if roll() + roll() == 7:\n",
    "            count += 1\n",
    "    return count / trials\n",
    "\n",
    "# Run simulation\n",
    "probability = simulate_dice()\n",
    "print(\"Estimated probability of sum = 7:\", probability)\n",
    "print(\"Exact probability: 1/6 =\", 1/6)"
   ]
  },
  {
   "cell_type": "markdown",
   "id": "edbd6f9c-01f2-48a3-84b1-0f7614c0d27d",
   "metadata": {},
   "source": [
    "__Discussion (Random seed & reproducibility):__ Without a seed, every run produces slightly different results. Using random.seed(value) makes the results reproducible, which is useful for testing and comparison."
   ]
  },
  {
   "cell_type": "markdown",
   "id": "228d0d46-705d-4f97-98ca-c4d79a6007e1",
   "metadata": {},
   "source": [
    "##### Citations"
   ]
  },
  {
   "cell_type": "markdown",
   "id": "cc7c448c-54c5-4052-a739-f8177d6aa2ad",
   "metadata": {},
   "source": [
    "_Lesson 2_ : Arithmetic Operations and Expressions"
   ]
  },
  {
   "cell_type": "markdown",
   "id": "5175d901-fc90-4e14-a586-b28ffefd7907",
   "metadata": {},
   "source": [
    "_Lesson 3_ : Functions and Loops"
   ]
  },
  {
   "cell_type": "markdown",
   "id": "d8941c36-fa5a-4d3d-9722-ca747200d957",
   "metadata": {},
   "source": [
    "_Lesson 4_ : The Random Module"
   ]
  },
  {
   "cell_type": "markdown",
   "id": "5d2265e9-34e6-449b-ad72-1226206f6b29",
   "metadata": {},
   "source": [
    "### Q7. OOP: Vehicles with Odometer and Fuel"
   ]
  },
  {
   "cell_type": "markdown",
   "id": "d488379e-2dfe-4f10-9f29-59e6cd2a7011",
   "metadata": {},
   "source": [
    "Design classes Vehicle (base),\n",
    "Car and Truck (children). Each has color, mileage, and fuel_liters. Provide\n",
    "drive(km, km_per_liter) which increments mileage and decreases fuel (never below 0) and refuel(liters). Show how inheritance avoids duplication and add\n",
    "a method override in Truck (e.g., different efficiency). Include a minimal test\n",
    "script. Anchor concepts: classes vs. instances, attributes, instance methods, inheritance/override."
   ]
  },
  {
   "cell_type": "markdown",
   "id": "2de352f6-9f16-4980-b49f-374d8d5eca43",
   "metadata": {},
   "source": [
    "##### Prompt"
   ]
  },
  {
   "cell_type": "markdown",
   "id": "29687937-23ea-4988-9aec-b19d7f064347",
   "metadata": {},
   "source": [
    "Write Python classes Vehicle, Car, and Truck.\n",
    "All should have color, mileage, and fuel_liters attributes.\n",
    "Add methods drive() and refuel().\n",
    "Make Truck override drive() to use more fuel.\n",
    "Include a short test."
   ]
  },
  {
   "cell_type": "markdown",
   "id": "2b76a6b9-03fa-4276-a4ee-cbc71bb50737",
   "metadata": {},
   "source": [
    "##### ChatGPT Code"
   ]
  },
  {
   "cell_type": "code",
   "execution_count": 18,
   "id": "a79ef6c4-c96d-475e-8f82-ae2036a3028f",
   "metadata": {},
   "outputs": [],
   "source": [
    "class Vehicle:\n",
    "    def __init__(self, color, mileage, fuel_liters):\n",
    "        self.color = color\n",
    "        self.mileage = mileage\n",
    "        self.fuel_liters = fuel_liters\n",
    "    def drive(self, km, km_per_liter):\n",
    "        used = km / km_per_liter\n",
    "        if used <= self.fuel_liters:\n",
    "            self.mileage += km\n",
    "            self.fuel_liters -= used\n",
    "        else:\n",
    "            print(\"Not enough fuel.\")\n",
    "    def refuel(self, liters):\n",
    "        self.fuel_liters += liters\n",
    "\n",
    "class Car(Vehicle):\n",
    "    pass\n",
    "\n",
    "class Truck(Vehicle):\n",
    "    def drive(self, km, km_per_liter):\n",
    "        super().drive(km, km_per_liter * 0.8)\n"
   ]
  },
  {
   "cell_type": "markdown",
   "id": "9d45bc82-465e-4204-9571-9aac11ac43c0",
   "metadata": {},
   "source": [
    "##### Critique"
   ]
  },
  {
   "cell_type": "markdown",
   "id": "7fad5231-2a64-4047-ac90-ad6ddf6762e1",
   "metadata": {},
   "source": [
    "__Correctness :__ Works properly for normal use. Inheritance is applied correctly, and overriding in Truck changes fuel efficiency."
   ]
  },
  {
   "cell_type": "markdown",
   "id": "4b458469-ef80-4a5a-a99e-011456e0a171",
   "metadata": {},
   "source": [
    "__Complexity :__ Simple, direct use of OOP concepts."
   ]
  },
  {
   "cell_type": "markdown",
   "id": "9d68afc5-4276-403d-8d25-1b1cf955452c",
   "metadata": {},
   "source": [
    "__Robustness :__ No handling for negative distance or fuel inputs."
   ]
  },
  {
   "cell_type": "markdown",
   "id": "4baf7f6f-65c8-4d6a-a341-f4a53d6949a1",
   "metadata": {},
   "source": [
    "__Readability :__ Code is clean but lacks comments and user feedback (no print statements for actions)."
   ]
  },
  {
   "cell_type": "markdown",
   "id": "c8db7e92-3616-4c3e-946f-5759fe45025b",
   "metadata": {},
   "source": [
    "__Faithfulness :__ Demonstrates OOP principles , class definition, instance attributes, and instance methods exactly as taught in lectures."
   ]
  },
  {
   "cell_type": "markdown",
   "id": "30c66582-4b43-42d2-9168-62f1126c4ce3",
   "metadata": {},
   "source": [
    "##### Improved Code"
   ]
  },
  {
   "cell_type": "code",
   "execution_count": 21,
   "id": "f7924bce-2734-4326-9674-6ef725c7a7ce",
   "metadata": {},
   "outputs": [
    {
     "name": "stdout",
     "output_type": "stream",
     "text": [
      "Car (blue) drove 100 km. Remaining fuel: 10.00 L\n",
      "Truck (red) drove 100 km. Remaining fuel: 37.50 L\n",
      "Truck (red) refueled 10 L. Total fuel: 47.50 L\n"
     ]
    }
   ],
   "source": [
    "class Vehicle:\n",
    "    \"\"\"Base class for all vehicles.\"\"\"\n",
    "    def __init__(self, color, mileage, fuel_liters):\n",
    "        self.color = color\n",
    "        self.mileage = mileage\n",
    "        self.fuel_liters = fuel_liters\n",
    "\n",
    "    def drive(self, km, km_per_liter):\n",
    "        used = km / km_per_liter\n",
    "        if used > self.fuel_liters:\n",
    "            print(f\"{self.__class__.__name__} ({self.color}): Not enough fuel!\")\n",
    "        else:\n",
    "            self.mileage += km\n",
    "            self.fuel_liters -= used\n",
    "            print(f\"{self.__class__.__name__} ({self.color}) drove {km} km. Remaining fuel: {self.fuel_liters:.2f} L\")\n",
    "\n",
    "    def refuel(self, liters):\n",
    "        self.fuel_liters += liters\n",
    "        print(f\"{self.__class__.__name__} ({self.color}) refueled {liters} L. Total fuel: {self.fuel_liters:.2f} L\")\n",
    "\n",
    "class Car(Vehicle):\n",
    "    \"\"\"Car inherits from Vehicle.\"\"\"\n",
    "    pass\n",
    "\n",
    "class Truck(Vehicle):\n",
    "    \"\"\"Truck consumes more fuel (less efficient).\"\"\"\n",
    "    def drive(self, km, km_per_liter):\n",
    "        # Truck uses 20% more fuel\n",
    "        adjusted_efficiency = km_per_liter * 0.8\n",
    "        super().drive(km, adjusted_efficiency)\n",
    "\n",
    "# Test example\n",
    "car = Car(\"blue\", 1000, 20)\n",
    "truck = Truck(\"red\", 5000, 50)\n",
    "\n",
    "car.drive(100, 10)\n",
    "truck.drive(100, 10)\n",
    "truck.refuel(10)\n"
   ]
  },
  {
   "cell_type": "markdown",
   "id": "810097fa-04e9-4d0e-aadd-e2a38ceef446",
   "metadata": {},
   "source": [
    "##### Citations"
   ]
  },
  {
   "cell_type": "markdown",
   "id": "88de2579-666e-4af0-aa9a-3208ccbc56a2",
   "metadata": {},
   "source": [
    "_Lesson 2_ : Arithmetic Operations and Expressions"
   ]
  },
  {
   "cell_type": "markdown",
   "id": "6309c974-d1c4-45f7-b287-8914acf45cec",
   "metadata": {},
   "source": [
    "_Lesson 3_ : Functions"
   ]
  },
  {
   "cell_type": "markdown",
   "id": "9c4dece2-bd90-49d6-b98e-b192d811607f",
   "metadata": {},
   "source": [
    "_Lesson 4_ : Conditional Logic and Control Flow"
   ]
  },
  {
   "cell_type": "markdown",
   "id": "b378381b-2de7-470d-9bdc-be6ef7151510",
   "metadata": {},
   "source": [
    "_Lesson 6_ : Object-Oriented Programming; Extending the Functionality of a Parent Class"
   ]
  },
  {
   "cell_type": "markdown",
   "id": "c667e803-10eb-4630-a7d7-9dfb1be37d24",
   "metadata": {},
   "source": [
    "### Q8. OOP + Composition: Kennel with Dogs"
   ]
  },
  {
   "cell_type": "markdown",
   "id": "a6aa8263-876e-48bd-8473-4588b3e4f5bd",
   "metadata": {},
   "source": [
    "Using a Dog class (name, age, breed,\n",
    "bark()), implement a Kennel manager that holds multiple Dog instances, supports\n",
    "add_dog, remove_dog, oldest_dog(), and find_by_breed(breed). Compare composition vs. inheritance for this scenario. Anchor concepts: OOP design, managing collections of objects. "
   ]
  },
  {
   "cell_type": "markdown",
   "id": "b3ab867a-7dbf-4238-a9ad-b7c42bce56a2",
   "metadata": {},
   "source": [
    "##### Prompt"
   ]
  },
  {
   "cell_type": "markdown",
   "id": "3ee5be28-88da-47fa-9c07-06a7d9b6807f",
   "metadata": {},
   "source": [
    "Write Python classes Dog and Kennel.\n",
    "Dog should have attributes name, age, breed and a method bark().\n",
    "Kennel should store multiple Dog instances and support methods:\n",
    "\n",
    "- add_dog(dog)\n",
    "- remove_dog(name)\n",
    "- oldest_dog() (returns the oldest dog)\n",
    "- find_by_breed(breed) (returns matching dogs)."
   ]
  },
  {
   "cell_type": "markdown",
   "id": "800e4e85-ccb8-495c-a1bd-d4456388ea3d",
   "metadata": {},
   "source": [
    "##### ChatGPT Code"
   ]
  },
  {
   "cell_type": "code",
   "execution_count": 22,
   "id": "d46d5786-395f-4d94-bddd-0bc4e6f45fd4",
   "metadata": {},
   "outputs": [
    {
     "name": "stdout",
     "output_type": "stream",
     "text": [
      "Max\n",
      "Buddy says: Woof!\n",
      "Luna says: Woof!\n"
     ]
    }
   ],
   "source": [
    "class Dog:\n",
    "    def __init__(self, name, age, breed):\n",
    "        self.name = name\n",
    "        self.age = age\n",
    "        self.breed = breed\n",
    "\n",
    "    def bark(self):\n",
    "        print(f\"{self.name} says: Woof!\")\n",
    "\n",
    "class Kennel:\n",
    "    def __init__(self):\n",
    "        self.dogs = []\n",
    "\n",
    "    def add_dog(self, dog):\n",
    "        self.dogs.append(dog)\n",
    "\n",
    "    def remove_dog(self, name):\n",
    "        self.dogs = [d for d in self.dogs if d.name != name]\n",
    "\n",
    "    def oldest_dog(self):\n",
    "        if not self.dogs:\n",
    "            return None\n",
    "        return max(self.dogs, key=lambda d: d.age)\n",
    "\n",
    "    def find_by_breed(self, breed):\n",
    "        return [d for d in self.dogs if d.breed.lower() == breed.lower()]\n",
    "\n",
    "# Example usage\n",
    "k = Kennel()\n",
    "k.add_dog(Dog(\"Buddy\", 5, \"Labrador\"))\n",
    "k.add_dog(Dog(\"Max\", 7, \"Beagle\"))\n",
    "k.add_dog(Dog(\"Luna\", 3, \"Labrador\"))\n",
    "\n",
    "print(k.oldest_dog().name)\n",
    "for d in k.find_by_breed(\"labrador\"):\n",
    "    d.bark()\n"
   ]
  },
  {
   "cell_type": "markdown",
   "id": "2b7088da-ca54-4732-8cbe-e460a96d7d04",
   "metadata": {},
   "source": [
    "##### Critique"
   ]
  },
  {
   "cell_type": "markdown",
   "id": "5585444f-0690-4cf9-8830-ba5dd9342501",
   "metadata": {},
   "source": [
    "__Correctness :__ The code correctly implements both classes and the required methods. All methods behave as expected."
   ]
  },
  {
   "cell_type": "markdown",
   "id": "e4dee839-c71c-4d73-ab27-dabd49fa7c86",
   "metadata": {},
   "source": [
    "__Complexity:__ All operations are simple and fast enough for small lists of dogs. The design is efficient for this scale."
   ]
  },
  {
   "cell_type": "markdown",
   "id": "a60962b9-50e0-4598-88ab-b7c0e550c859",
   "metadata": {},
   "source": [
    "__Robustness :__ Missing input validation. Could improve case-insensitivity and error messages."
   ]
  },
  {
   "cell_type": "markdown",
   "id": "07de9a4a-f87a-436f-bb0f-b1bf0de3f599",
   "metadata": {},
   "source": [
    "__Readability:__ Readable and well-structured. Could add docstrings and use more descriptive names"
   ]
  },
  {
   "cell_type": "markdown",
   "id": "fdb05550-2db9-4b5c-bfde-0614dddc38ef",
   "metadata": {},
   "source": [
    "__Faithfulness:__ Demonstrates OOP principles as per discussed during lecture and on the notes."
   ]
  },
  {
   "cell_type": "markdown",
   "id": "0f6c890a-c8db-482b-a271-361ec55388cc",
   "metadata": {},
   "source": [
    "##### Improved Code"
   ]
  },
  {
   "cell_type": "code",
   "execution_count": 29,
   "id": "f85a16c4-1762-49dc-b10d-379aaeea7fde",
   "metadata": {},
   "outputs": [
    {
     "name": "stdout",
     "output_type": "stream",
     "text": [
      "Oldest dog: Max (Beagle, 7 yrs old)\n",
      "Labradors: ['Buddy (Labrador, 5 yrs old)', 'Luna (Labrador, 3 yrs old)']\n",
      "After removal: ['Buddy (Labrador, 5 yrs old)', 'Luna (Labrador, 3 yrs old)']\n"
     ]
    }
   ],
   "source": [
    "class Dog:\n",
    "    \"\"\"Represents a single dog with name, age, and breed.\"\"\"\n",
    "    def __init__(self, name, age, breed):\n",
    "        self.name = name\n",
    "        self.age = age\n",
    "        self.breed = breed\n",
    "\n",
    "    def bark(self):\n",
    "        \"\"\"Print a simple bark message.\"\"\"\n",
    "        print(self.name + \" the \" + self.breed + \" says: Woof!\")\n",
    "\n",
    "    def __str__(self):\n",
    "        \"\"\"Return a user-friendly string when printed.\"\"\"\n",
    "        return self.name + \" (\" + self.breed + \", \" + str(self.age) + \" yrs old)\"\n",
    "\n",
    "\n",
    "class Kennel:\n",
    "    \"\"\"Manages a collection of Dog objects (composition).\"\"\"\n",
    "    def __init__(self):\n",
    "        self.dogs = []\n",
    "\n",
    "    def add_dog(self, dog):\n",
    "        \"\"\"Add a Dog object to the kennel.\"\"\"\n",
    "        self.dogs.append(dog)\n",
    "\n",
    "    def remove_dog(self, name):\n",
    "        \"\"\"Remove a dog by name. Returns True if removed, False otherwise.\"\"\"\n",
    "        for d in self.dogs:\n",
    "            if d.name.lower() == name.lower():\n",
    "                self.dogs.remove(d)\n",
    "                return True\n",
    "        return False\n",
    "\n",
    "    def oldest_dog(self):\n",
    "        \"\"\"Return the oldest dog, or None if the kennel is empty.\"\"\"\n",
    "        if len(self.dogs) == 0:\n",
    "            return None\n",
    "        oldest = self.dogs[0]\n",
    "        for d in self.dogs:\n",
    "            if d.age > oldest.age:\n",
    "                oldest = d\n",
    "        return oldest\n",
    "\n",
    "    def find_by_breed(self, breed):\n",
    "        \"\"\"Find all dogs that match the given breed (case-insensitive).\"\"\"\n",
    "        matches = []\n",
    "        for d in self.dogs:\n",
    "            if d.breed.lower() == breed.lower():\n",
    "                matches.append(d)\n",
    "        return matches\n",
    "\n",
    "\n",
    "# Example test script\n",
    "\n",
    "kennel = Kennel()\n",
    "kennel.add_dog(Dog(\"Buddy\", 5, \"Labrador\"))\n",
    "kennel.add_dog(Dog(\"Max\", 7, \"Beagle\"))\n",
    "kennel.add_dog(Dog(\"Luna\", 3, \"Labrador\"))\n",
    "\n",
    "print(\"Oldest dog:\", kennel.oldest_dog())\n",
    "\n",
    "labradors = kennel.find_by_breed(\"labrador\")\n",
    "\n",
    "print(\"Labradors:\", [str(d) for d in labradors])      # Displays all dogs by breed\n",
    "\n",
    "kennel.remove_dog(\"Max\")\n",
    "\n",
    "print(\"After removal:\", [str(d) for d in kennel.dogs])  # Print all remaining dogs in readable form"
   ]
  },
  {
   "cell_type": "markdown",
   "id": "46cb0f39-2b91-44d9-8461-ff4b7421f938",
   "metadata": {},
   "source": [
    "__Discussion (Composition vs Inheritance Discussion):__ Composition Fits Better because it allows reusability (same Dog class could be reused in a VetClinic or AdoptionCenter), and it keeps responsibilities separate and modular."
   ]
  },
  {
   "cell_type": "markdown",
   "id": "987f61f9-224d-466a-8b87-48167d831eb2",
   "metadata": {},
   "source": [
    "##### Citations"
   ]
  },
  {
   "cell_type": "markdown",
   "id": "a82d3e4f-aa2c-46d6-aaec-604e204b9a5f",
   "metadata": {},
   "source": [
    "_Lesson 5_: List"
   ]
  },
  {
   "cell_type": "markdown",
   "id": "bbb9205a-f70e-4136-a67b-f798f7b8175d",
   "metadata": {},
   "source": [
    "_Lesson 6_: Object-Oriented Programming: Object instantiation, Class and Instance Attributes, Instance ?Methods"
   ]
  },
  {
   "cell_type": "markdown",
   "id": "4d264680-fdb4-4c56-bf8f-9911f832da3b",
   "metadata": {},
   "source": [
    "### Q9. Modules and Packages: Helpers. "
   ]
  },
  {
   "cell_type": "markdown",
   "id": "6663ffb3-ef85-43a8-a248-438f3ce07cf4",
   "metadata": {},
   "source": [
    "Create a package helpers/ with modules\n",
    "string_utils.py (function shout(s) uppercases) and math_utils.py (function area(l,w)).\n",
    "Then a main.py that imports with both import ... as ... and from ...\n",
    "import .... Explain namespace collisions and why aliases help. Anchor concepts: modules, packages, import variations, namespaces."
   ]
  },
  {
   "cell_type": "markdown",
   "id": "2f62a287-e2ab-4922-9337-ac490965aefd",
   "metadata": {},
   "source": [
    "##### Code"
   ]
  },
  {
   "cell_type": "code",
   "execution_count": 30,
   "id": "4b88e2d2-0eba-4d06-bd2a-e9c2b6898e8c",
   "metadata": {},
   "outputs": [
    {
     "name": "stdout",
     "output_type": "stream",
     "text": [
      "HELLO WORLD\n",
      "Area: 15\n"
     ]
    }
   ],
   "source": [
    "import helpers.string_utils as su\n",
    "from helpers.math_utils import area\n",
    "\n",
    "print(su.shout(\"hello world\"))\n",
    "print(\"Area:\", area(5, 3))"
   ]
  },
  {
   "cell_type": "markdown",
   "id": "0286475b-d84b-4c38-bdae-ad2b1f6a3545",
   "metadata": {},
   "source": [
    "___Discussion (Namespace and Aliases) :__ If two modules had a function named area, this could cause a namespace collision (one would overwrite the other). Aliases help prevent such collisions and make your code cleaner and easier to read."
   ]
  },
  {
   "cell_type": "markdown",
   "id": "8048901d-3436-47f8-a7f9-3073685876ad",
   "metadata": {},
   "source": [
    "##### Citations"
   ]
  },
  {
   "cell_type": "markdown",
   "id": "db5df202-65f8-443c-b777-e2bdaab8dea2",
   "metadata": {},
   "source": [
    "_Lesson 7_ : Modules and Packages"
   ]
  },
  {
   "cell_type": "markdown",
   "id": "a0d000f5-4d9c-417e-9f81-52640417ed4a",
   "metadata": {},
   "source": [
    "### Q10. Robust Temperature Converter (Functions + Exceptions)"
   ]
  },
  {
   "cell_type": "markdown",
   "id": "97300fdf-0b05-4629-85e8-659fc17e9953",
   "metadata": {},
   "source": [
    "Write two functions: cel_to_far(c) and far_to_cel(f) with type hints and docstrings. Build a\n",
    "CLI that asks the user which direction to convert and validates input (gracefully\n",
    "handles bad entries). Include unit tests (doctest or simple asserts) covering typical\n",
    "3\n",
    "and edge cases (e.g., -40). Anchor concepts: writing functions, control flow, input\n",
    "handling, testing."
   ]
  },
  {
   "cell_type": "code",
   "execution_count": 32,
   "id": "11ad0739-cbb6-4af7-9fbe-104473987f78",
   "metadata": {},
   "outputs": [
    {
     "name": "stdout",
     "output_type": "stream",
     "text": [
      "Function tests passed.\n",
      "\n",
      "Temperature Converter\n",
      "1. Celsius to Fahrenheit\n",
      "2. Fahrenheit to Celsius\n",
      "Q. Quit\n"
     ]
    },
    {
     "name": "stdin",
     "output_type": "stream",
     "text": [
      "Choose an option (1/2/Q):  1\n",
      "Enter temperature value:  37\n"
     ]
    },
    {
     "name": "stdout",
     "output_type": "stream",
     "text": [
      "37.0°C = 98.60°F\n",
      "\n",
      "Temperature Converter\n",
      "1. Celsius to Fahrenheit\n",
      "2. Fahrenheit to Celsius\n",
      "Q. Quit\n"
     ]
    },
    {
     "name": "stdin",
     "output_type": "stream",
     "text": [
      "Choose an option (1/2/Q):  q\n"
     ]
    },
    {
     "name": "stdout",
     "output_type": "stream",
     "text": [
      "Goodbye!\n"
     ]
    }
   ],
   "source": [
    "def cel_to_far(c):\n",
    "    \"\"\"Convert Celsius to Fahrenheit.\"\"\"\n",
    "    return (c * 9 / 5) + 32\n",
    "\n",
    "\n",
    "def far_to_cel(f):\n",
    "    \"\"\"Convert Fahrenheit to Celsius.\"\"\"\n",
    "    return (f - 32) * 5 / 9\n",
    "\n",
    "\n",
    "def main():\n",
    "    \"\"\"Simple CLI for temperature conversion with input validation.\"\"\"\n",
    "    while True:\n",
    "        print(\"\\nTemperature Converter\")\n",
    "        print(\"1. Celsius to Fahrenheit\")\n",
    "        print(\"2. Fahrenheit to Celsius\")\n",
    "        print(\"Q. Quit\")\n",
    "\n",
    "        choice = input(\"Choose an option (1/2/Q): \").strip().upper()\n",
    "\n",
    "        if choice == \"Q\":\n",
    "            print(\"Goodbye!\")\n",
    "            break\n",
    "\n",
    "        try:\n",
    "            value = float(input(\"Enter temperature value: \"))\n",
    "        except ValueError:\n",
    "            print(\"Invalid input. Please enter a number.\")\n",
    "            continue\n",
    "\n",
    "        if choice == \"1\":\n",
    "            result = cel_to_far(value)\n",
    "            print(f\"{value}°C = {result:.2f}°F\")\n",
    "        elif choice == \"2\":\n",
    "            result = far_to_cel(value)\n",
    "            print(f\"{value}°F = {result:.2f}°C\")\n",
    "        else:\n",
    "            print(\"Invalid choice. Please enter 1, 2, or Q.\")\n",
    "\n",
    "\n",
    "# Test cases\n",
    "\n",
    "assert cel_to_far(-40) == -40\n",
    "assert round(far_to_cel(32), 2) == 0.00\n",
    "assert round(far_to_cel(212), 2) == 100.00\n",
    "print(\"Function tests passed.\")\n",
    "\n",
    "main()"
   ]
  },
  {
   "cell_type": "markdown",
   "id": "df6057d5-c0b9-40b3-b470-e7e881bca86c",
   "metadata": {},
   "source": [
    "##### Citations"
   ]
  },
  {
   "cell_type": "markdown",
   "id": "cd22868c-1c70-48c0-95e0-4a361461b611",
   "metadata": {},
   "source": [
    "_Lesson 2_: Arithmetic Operations and Expressions"
   ]
  },
  {
   "cell_type": "markdown",
   "id": "9bf8aacb-49b1-409d-8274-667d3011a029",
   "metadata": {},
   "source": [
    "_Lesson 3_ : Converting Temperatures"
   ]
  },
  {
   "cell_type": "markdown",
   "id": "e4063966-2a14-48a6-a20a-562ea4323dca",
   "metadata": {},
   "source": [
    "_Lesson 4_ : The Try and Except Keyword"
   ]
  }
 ],
 "metadata": {
  "kernelspec": {
   "display_name": "Python [conda env:base] *",
   "language": "python",
   "name": "conda-base-py"
  },
  "language_info": {
   "codemirror_mode": {
    "name": "ipython",
    "version": 3
   },
   "file_extension": ".py",
   "mimetype": "text/x-python",
   "name": "python",
   "nbconvert_exporter": "python",
   "pygments_lexer": "ipython3",
   "version": "3.13.5"
  }
 },
 "nbformat": 4,
 "nbformat_minor": 5
}
