{
 "cells": [
  {
   "cell_type": "markdown",
   "id": "e0c35174-99c9-42d2-abd0-3bf634c54a87",
   "metadata": {},
   "source": [
    "# Review Questions Page 21"
   ]
  },
  {
   "cell_type": "code",
   "execution_count": 17,
   "id": "7dc550aa-a190-48d8-9dee-149236e36d43",
   "metadata": {},
   "outputs": [
    {
     "data": {
      "text/plain": [
       "16"
      ]
     },
     "execution_count": 17,
     "metadata": {},
     "output_type": "execute_result"
    }
   ],
   "source": [
    "#1\n",
    "string = \"shinzou sasageyo\"\n",
    "len(string)"
   ]
  },
  {
   "cell_type": "code",
   "execution_count": 18,
   "id": "e1897c47-9330-499f-a14a-549a22c1f431",
   "metadata": {},
   "outputs": [
    {
     "data": {
      "text/plain": [
       "'DomainExpansion'"
      ]
     },
     "execution_count": 18,
     "metadata": {},
     "output_type": "execute_result"
    }
   ],
   "source": [
    "#2\n",
    "string1 = \"Domain\"\n",
    "string2 = \"Expansion\"\n",
    "\n",
    "concat = (string1 + string2)\n",
    "\n",
    "concat"
   ]
  },
  {
   "cell_type": "code",
   "execution_count": 19,
   "id": "e63de8dd-c8b6-47e2-9d05-abf1775839e3",
   "metadata": {},
   "outputs": [
    {
     "data": {
      "text/plain": [
       "'Luke Harvey Umpad'"
      ]
     },
     "execution_count": 19,
     "metadata": {},
     "output_type": "execute_result"
    }
   ],
   "source": [
    "#3\n",
    "first_name = \"Luke Harvey\"\n",
    "last_name = \"Umpad\"\n",
    "\n",
    "concat = (first_name + \" \" + last_name)\n",
    "concat"
   ]
  },
  {
   "cell_type": "code",
   "execution_count": 20,
   "id": "1c1078b4-0fb8-49bd-9ea1-7514b14141ad",
   "metadata": {},
   "outputs": [
    {
     "data": {
      "text/plain": [
       "'fox'"
      ]
     },
     "execution_count": 20,
     "metadata": {},
     "output_type": "execute_result"
    }
   ],
   "source": [
    "#4\n",
    "sentence = \"The quick brown fox jumped over the lazy dog. #1234567890!\"\n",
    "sentence[16:19]"
   ]
  },
  {
   "cell_type": "markdown",
   "id": "b3f9b051-18ec-4fb7-bc30-e49ea332074f",
   "metadata": {},
   "source": [
    "# Review Questions Page 25"
   ]
  },
  {
   "cell_type": "code",
   "execution_count": 9,
   "id": "d4b80b43-7ce4-42e8-a9e1-b73c6e5fac4f",
   "metadata": {},
   "outputs": [
    {
     "name": "stdout",
     "output_type": "stream",
     "text": [
      "animals\n",
      "badger\n",
      "honey bee\n",
      "honeybadger\n"
     ]
    }
   ],
   "source": [
    "#1\n",
    "word1 = \"Animals\"\n",
    "word2 = \"Badger\"\n",
    "word3 = \"Honey Bee\"\n",
    "word4 = \"Honeybadger\"\n",
    "\n",
    "print(word1.lower())\n",
    "print(word2.lower())\n",
    "print(word3.lower())\n",
    "print(word4.lower())"
   ]
  },
  {
   "cell_type": "code",
   "execution_count": 10,
   "id": "06cddd5a-fc4e-4169-8ff5-d32fa0f59724",
   "metadata": {},
   "outputs": [
    {
     "name": "stdout",
     "output_type": "stream",
     "text": [
      "ANIMALS\n",
      "BADGER\n",
      "HONEY BEE\n",
      "HONEYBADGER\n"
     ]
    }
   ],
   "source": [
    "#2 \n",
    "word1 = \"Animals\"\n",
    "word2 = \"Badger\"\n",
    "word3 = \"Honey Bee\"\n",
    "word4 = \"Honeybadger\"\n",
    "\n",
    "print(word1.upper())\n",
    "print(word2.upper())\n",
    "print(word3.upper())\n",
    "print(word4.upper())"
   ]
  },
  {
   "cell_type": "code",
   "execution_count": 13,
   "id": "89b33640-59f8-4398-b557-44d0f84b1962",
   "metadata": {},
   "outputs": [
    {
     "name": "stdout",
     "output_type": "stream",
     "text": [
      "Filet Mignon\n",
      "Brisket\n"
     ]
    }
   ],
   "source": [
    "#3\n",
    "string1 = \" Filet Mignon\"\n",
    "string2 = \"Brisket \"\n",
    "\n",
    "print(string1.lstrip())\n",
    "print(string2.rstrip())"
   ]
  },
  {
   "cell_type": "code",
   "execution_count": 14,
   "id": "3ad944f5-314a-4af9-8561-289457ee22ea",
   "metadata": {},
   "outputs": [
    {
     "name": "stdout",
     "output_type": "stream",
     "text": [
      "False\n",
      "True\n"
     ]
    }
   ],
   "source": [
    "#4\n",
    "string1 = \"Becomes\"\n",
    "string2 = \"becomes\"\n",
    "\n",
    "print(string1.startswith(\"be\"))\n",
    "print(string2.startswith(\"be\"))"
   ]
  },
  {
   "cell_type": "code",
   "execution_count": 16,
   "id": "e11c3a79-c4ab-4124-a33f-341aa1d5205b",
   "metadata": {},
   "outputs": [
    {
     "name": "stdout",
     "output_type": "stream",
     "text": [
      "True\n",
      "True\n"
     ]
    }
   ],
   "source": [
    "#5\n",
    "string1 = \"Becomes\"\n",
    "string2 = \"becomes\"\n",
    "\n",
    "new_string1 = \"be\" + string1(2:)\n",
    "print(new_string1.startswith(\"be\"))\n",
    "print(string2.startswith(\"be\"))"
   ]
  },
  {
   "cell_type": "markdown",
   "id": "e6e86e81-0653-4c27-be7e-c8c41468d1c5",
   "metadata": {},
   "source": [
    "# Review Questions Page 27"
   ]
  },
  {
   "cell_type": "code",
   "execution_count": 21,
   "id": "efde916c-dc79-46f5-9d56-2140e18fd95e",
   "metadata": {},
   "outputs": [
    {
     "name": "stdin",
     "output_type": "stream",
     "text": [
      "Do you want to proceed? y/n y\n"
     ]
    },
    {
     "name": "stdout",
     "output_type": "stream",
     "text": [
      "Your respond:  y\n"
     ]
    }
   ],
   "source": [
    "#1\n",
    "prompt = \"Do you want to proceed? y/n\"\n",
    "user_input = input(prompt)\n",
    "print(\"Your respond: \", user_input)"
   ]
  },
  {
   "cell_type": "code",
   "execution_count": 25,
   "id": "21f06c53-5bd6-40e7-9b8e-2c769600aaac",
   "metadata": {},
   "outputs": [
    {
     "name": "stdin",
     "output_type": "stream",
     "text": [
      "What is your name? Luke\n"
     ]
    },
    {
     "name": "stdout",
     "output_type": "stream",
     "text": [
      "Your respond:  luke\n"
     ]
    }
   ],
   "source": [
    "#2 \n",
    "prompt = \"What is your name?\"\n",
    "user_input = input(prompt)\n",
    "print(\"Your respond: \", user_input.lower())"
   ]
  },
  {
   "cell_type": "code",
   "execution_count": 26,
   "id": "c92818d2-81c5-4b8f-8d49-d8fd385a9c5c",
   "metadata": {},
   "outputs": [
    {
     "name": "stdin",
     "output_type": "stream",
     "text": [
      "What is your favorite color? blue\n"
     ]
    },
    {
     "name": "stdout",
     "output_type": "stream",
     "text": [
      "Your respond:  4\n"
     ]
    }
   ],
   "source": [
    "#3\n",
    "prompt = \"What is your favorite color?\"\n",
    "user_input = input(prompt)\n",
    "print(\"Your respond: \", len(user_input))"
   ]
  },
  {
   "cell_type": "markdown",
   "id": "12080f8e-c775-44c6-bcce-e07dd9bc650c",
   "metadata": {},
   "source": [
    "# Review Questions Page 28"
   ]
  },
  {
   "cell_type": "code",
   "execution_count": 37,
   "id": "506e5609-2d4f-42c1-8b96-b5aba777ab7c",
   "metadata": {},
   "outputs": [
    {
     "name": "stdin",
     "output_type": "stream",
     "text": [
      "Tell me your name:  luke\n"
     ]
    },
    {
     "name": "stdout",
     "output_type": "stream",
     "text": [
      "The first letter is l.\n",
      "Convert first letter to uppercase: L\n",
      "Your name is Luke\n"
     ]
    }
   ],
   "source": [
    "#1\n",
    "string = \"Tell me your name: \"\n",
    "user_input = input(string)\n",
    "\n",
    "print(\"The first letter is \" + user_input[0] + \".\")\n",
    "toUpper = user_input[0].upper()\n",
    "print(\"Convert first letter to uppercase: \" + toUpper)\n",
    "print(\"Your name is \" + toUpper + user_input[1:])"
   ]
  },
  {
   "cell_type": "markdown",
   "id": "36361d98-21d5-49d4-b90f-273e0c0d8c43",
   "metadata": {},
   "source": [
    "# Review Questions Page 33"
   ]
  },
  {
   "cell_type": "code",
   "execution_count": 44,
   "id": "7700a7ce-c29f-47f1-8248-0b3203e461ff",
   "metadata": {},
   "outputs": [
    {
     "name": "stdout",
     "output_type": "stream",
     "text": [
      "33\n",
      "Result:  1452\n"
     ]
    }
   ],
   "source": [
    "#1\n",
    "string = \"33\"\n",
    "num1 = int(string)\n",
    "print(num1)\n",
    "\n",
    "product = num1 * 44\n",
    "print(\"Result: \", product)"
   ]
  },
  {
   "cell_type": "code",
   "execution_count": 45,
   "id": "a3e29de0-6657-49d0-a2e8-b69ecc9247b4",
   "metadata": {},
   "outputs": [
    {
     "name": "stdout",
     "output_type": "stream",
     "text": [
      "33.0\n",
      "Result:  1452.0\n"
     ]
    }
   ],
   "source": [
    "#2\n",
    "string = \"33\"\n",
    "num1 = float(string)\n",
    "print(num1)\n",
    "\n",
    "product = num1 * 44\n",
    "print(\"Result: \", product)"
   ]
  },
  {
   "cell_type": "code",
   "execution_count": 48,
   "id": "9d2899aa-1365-412c-9ee9-e1936ffe6f06",
   "metadata": {},
   "outputs": [
    {
     "name": "stdout",
     "output_type": "stream",
     "text": [
      "Block 13\n"
     ]
    }
   ],
   "source": [
    "#3\n",
    "string = \"Block \"\n",
    "integer = 13\n",
    "\n",
    "print(string + str(integer))"
   ]
  },
  {
   "cell_type": "code",
   "execution_count": null,
   "id": "38b4752e-16c7-4d5f-9d6d-37a76ef127ec",
   "metadata": {},
   "outputs": [],
   "source": [
    "#4\n",
    "prompt = \"Input two numbers: \"\n",
    "user_input1 = input(prompt)\n"
   ]
  }
 ],
 "metadata": {
  "kernelspec": {
   "display_name": "Python 3 (ipykernel)",
   "language": "python",
   "name": "python3"
  },
  "language_info": {
   "codemirror_mode": {
    "name": "ipython",
    "version": 3
   },
   "file_extension": ".py",
   "mimetype": "text/x-python",
   "name": "python",
   "nbconvert_exporter": "python",
   "pygments_lexer": "ipython3",
   "version": "3.13.5"
  }
 },
 "nbformat": 4,
 "nbformat_minor": 5
}
