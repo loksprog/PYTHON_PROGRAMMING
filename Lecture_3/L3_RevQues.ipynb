{
 "cells": [
  {
   "cell_type": "markdown",
   "id": "31f87a33-8097-4efa-88c0-ba33aaa31d1d",
   "metadata": {},
   "source": [
    "# REVIEW QUESTIONS PAGE 8"
   ]
  },
  {
   "cell_type": "code",
   "execution_count": 1,
   "id": "49d3b342-f761-41df-8e72-08f60d8f73b2",
   "metadata": {},
   "outputs": [
    {
     "data": {
      "text/plain": [
       "8"
      ]
     },
     "execution_count": 1,
     "metadata": {},
     "output_type": "execute_result"
    }
   ],
   "source": [
    "#1\n",
    "def cube(number):\n",
    "    expo = number**3\n",
    "    return expo\n",
    "\n",
    "cube(2)"
   ]
  },
  {
   "cell_type": "code",
   "execution_count": 5,
   "id": "05b1d492-b35f-4801-b15a-98e498fdb9ae",
   "metadata": {},
   "outputs": [
    {
     "name": "stdout",
     "output_type": "stream",
     "text": [
      "Hello, Luke!\n"
     ]
    }
   ],
   "source": [
    "#2\n",
    "def greet(name):\n",
    "    print(f'Hello, {name}!')\n",
    "\n",
    "greet('Luke')"
   ]
  },
  {
   "cell_type": "markdown",
   "id": "5475aab7-9dfa-43b4-8844-d4a392239165",
   "metadata": {},
   "source": [
    "# CHALLENGE: CONVERT TEMPERATURE"
   ]
  },
  {
   "cell_type": "code",
   "execution_count": 15,
   "id": "a97eba53-24dc-4ea9-9cf1-73b931553015",
   "metadata": {},
   "outputs": [
    {
     "name": "stdin",
     "output_type": "stream",
     "text": [
      "Enter a temperature in degrees C:  37\n"
     ]
    },
    {
     "name": "stdout",
     "output_type": "stream",
     "text": [
      "37 degrees  C = 98.60 degrees F\n"
     ]
    }
   ],
   "source": [
    "#1\n",
    "def convert_cel_to_far(cel):\n",
    "    far = (float(cel) * 1.8) + 32\n",
    "    return far\n",
    "\n",
    "userInput = input('Enter a temperature in degrees C: ')\n",
    "print(f'{userInput} degrees  C = {convert_cel_to_far(userInput):.2f} degrees F')"
   ]
  },
  {
   "cell_type": "code",
   "execution_count": 17,
   "id": "78ff08f9-9aee-4081-b254-1846bee12711",
   "metadata": {},
   "outputs": [
    {
     "name": "stdin",
     "output_type": "stream",
     "text": [
      "Enter a temperature in degrees C:  72\n"
     ]
    },
    {
     "name": "stdout",
     "output_type": "stream",
     "text": [
      "72 degrees  F = 22.22 degrees C\n"
     ]
    }
   ],
   "source": [
    "#2\n",
    "def convert_far_to_cel(far):\n",
    "    cel = (float(far) - 32) / 1.8\n",
    "    return cel\n",
    "\n",
    "userInput = input('Enter a temperature in degrees C: ')\n",
    "print(f'{userInput} degrees  F = {convert_far_to_cel(userInput):.2f} degrees C')"
   ]
  },
  {
   "cell_type": "markdown",
   "id": "fd465f0b-b706-41af-adb0-3523452907bb",
   "metadata": {},
   "source": [
    "# REVIEW QUESTIONS PAGE 17"
   ]
  },
  {
   "cell_type": "code",
   "execution_count": 31,
   "id": "195ffaa4-9102-47ab-9967-d233c7e62111",
   "metadata": {},
   "outputs": [
    {
     "name": "stdout",
     "output_type": "stream",
     "text": [
      "2\n",
      "3\n",
      "4\n",
      "5\n",
      "6\n",
      "7\n",
      "8\n",
      "9\n",
      "10\n"
     ]
    }
   ],
   "source": [
    "#1\n",
    "for num in range(2,11):\n",
    "    print(num)"
   ]
  },
  {
   "cell_type": "code",
   "execution_count": 32,
   "id": "70507dfa-7635-4eb9-93c3-aa7571dc53dd",
   "metadata": {},
   "outputs": [
    {
     "name": "stdout",
     "output_type": "stream",
     "text": [
      "2\n",
      "3\n",
      "4\n",
      "5\n",
      "6\n",
      "7\n",
      "8\n",
      "9\n",
      "10\n"
     ]
    }
   ],
   "source": [
    "#2\n",
    "n = 2\n",
    "while n < 11:\n",
    "    print(n)\n",
    "    n += 1"
   ]
  },
  {
   "cell_type": "code",
   "execution_count": 30,
   "id": "649d2ada-152e-4ccf-8b06-5b51cdf5bd6b",
   "metadata": {},
   "outputs": [
    {
     "name": "stdout",
     "output_type": "stream",
     "text": [
      "4\n",
      "8\n",
      "16\n"
     ]
    }
   ],
   "source": [
    "#3\n",
    "def doubles(num):\n",
    "    result = num * 2\n",
    "    return result\n",
    "\n",
    "n = 2\n",
    "counter = 1\n",
    "while counter < 4:\n",
    "    print(doubles(n))\n",
    "    n += n\n",
    "    counter += 1"
   ]
  },
  {
   "cell_type": "code",
   "execution_count": null,
   "id": "91fa7eaf-3994-4cd5-a2fc-34585ae2cd2c",
   "metadata": {},
   "outputs": [],
   "source": []
  }
 ],
 "metadata": {
  "kernelspec": {
   "display_name": "Python 3 (ipykernel)",
   "language": "python",
   "name": "python3"
  },
  "language_info": {
   "codemirror_mode": {
    "name": "ipython",
    "version": 3
   },
   "file_extension": ".py",
   "mimetype": "text/x-python",
   "name": "python",
   "nbconvert_exporter": "python",
   "pygments_lexer": "ipython3",
   "version": "3.13.5"
  }
 },
 "nbformat": 4,
 "nbformat_minor": 5
}
